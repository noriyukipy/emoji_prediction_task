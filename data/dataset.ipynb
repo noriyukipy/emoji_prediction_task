{
 "cells": [
  {
   "cell_type": "markdown",
   "metadata": {},
   "source": [
    "# 学習データの作成\n",
    "\n",
    "Twitterデータから学習データを作成する。\n",
    "\n",
    "事前に準備が必要なもの\n",
    "\n",
    "- 一行1ツイートを表すJSONデータからなる tweet.json"
   ]
  },
  {
   "cell_type": "code",
   "execution_count": null,
   "metadata": {
    "tags": [
     "parameters"
    ]
   },
   "outputs": [],
   "source": [
    "tweet_file = \"tweets_10000.json\"\n",
    "out_dir = \"output\"\n",
    "test_valid_size_per_emoji = 2"
   ]
  },
  {
   "cell_type": "code",
   "execution_count": null,
   "metadata": {},
   "outputs": [],
   "source": [
    "! head tweets.json | jq -c '.text'"
   ]
  },
  {
   "cell_type": "code",
   "execution_count": null,
   "metadata": {},
   "outputs": [],
   "source": [
    "! pip install emoji==0.5.4 pandas==1.0.1 matplotlib==3.2.0"
   ]
  },
  {
   "cell_type": "code",
   "execution_count": null,
   "metadata": {},
   "outputs": [],
   "source": [
    "import matplotlib\n",
    "%matplotlib inline"
   ]
  },
  {
   "cell_type": "markdown",
   "metadata": {},
   "source": [
    "## 前処理\n",
    "\n",
    "tweets.json一行一行から、学習データとして使うツイートをフィルターし、その後前処理をかける\n",
    "\n",
    "フィルターの条件\n",
    "- 文字数が100より大きい\n",
    "- URLが含まれている\n",
    "- RT\n"
   ]
  },
  {
   "cell_type": "code",
   "execution_count": null,
   "metadata": {},
   "outputs": [],
   "source": [
    "import json\n",
    "import re\n",
    "\n",
    "\n",
    "def filter_tweet(text):\n",
    "    return any([\n",
    "        len(text) > 100,\n",
    "        \"http\" in text,\n",
    "        \"RT\" in text,\n",
    "        re.search(\"^[@].*@\", text),\n",
    "        re.search(\"^\\s*$\", text)\n",
    "    ])\n",
    "\n",
    "\n",
    "def preprocess_tweet(text):\n",
    "    text = re.sub(\"^@[0-9a-zA-Z_]+\\s*\", \"\", text)\n",
    "    text = re.sub(\"[\\n\\t\\s]\", \"\", text)\n",
    "    return text\n",
    "\n",
    "\n",
    "def filter_and_preprocess(fd):\n",
    "    texts = []\n",
    "    num_total = 0\n",
    "    for line in fd:\n",
    "        num_total += 1\n",
    "        tweet_json = line.strip(\"\\n\")\n",
    "        text = json.loads(tweet_json)[\"text\"]\n",
    "        if filter_tweet(text):\n",
    "            continue\n",
    "        preprocessed_text = preprocess_tweet(text)\n",
    "        texts.append(preprocessed_text)\n",
    "    print(\"Number of texts before filtering:\", num_total)\n",
    "    print(\"Number of texts after filtering:\", len(texts))\n",
    "\n",
    "    return texts"
   ]
  },
  {
   "cell_type": "code",
   "execution_count": null,
   "metadata": {},
   "outputs": [],
   "source": [
    "texts = filter_and_preprocess(open(tweet_file))"
   ]
  },
  {
   "cell_type": "code",
   "execution_count": null,
   "metadata": {},
   "outputs": [],
   "source": [
    "[print(x) for x in texts[:10]]"
   ]
  },
  {
   "cell_type": "markdown",
   "metadata": {},
   "source": [
    "前処理を行ったデータから、最終的な学習コーパスを作成する。\n",
    "\n",
    "文末に絵文字がつく文を抽出し、その絵文字逹を文への絵文字として扱う。\n",
    "複数絵文字が付与されている場合は、一つ一つがその文への絵文字であるとする。"
   ]
  },
  {
   "cell_type": "code",
   "execution_count": null,
   "metadata": {},
   "outputs": [],
   "source": [
    "import emoji\n",
    "import re\n",
    "\n",
    "\n",
    "class EmojiExtractor:\n",
    "    def __init__(self):\n",
    "        self._regex = \"(\" + \"|\".join(emoji.EMOJI_UNICODE) + \")\"\n",
    "\n",
    "    def extract(self, text):\n",
    "        edict = dict()\n",
    "        detext = emoji.demojize(text)\n",
    "        last_match = 0\n",
    "        last_text = \"\"\n",
    "        for match in re.finditer(self._regex, detext):\n",
    "            emj = match.group()\n",
    "            etxt = detext[last_match:match.start()]\n",
    "            last_tmp = last_match\n",
    "            last_match = match.end()\n",
    "            if match.start() == last_tmp:\n",
    "                if not last_text:\n",
    "                    continue\n",
    "                etxt = last_text\n",
    "            else:\n",
    "                last_text = etxt\n",
    "            edict[etxt] = edict.get(etxt, set()) | {emj}\n",
    "        return edict"
   ]
  },
  {
   "cell_type": "code",
   "execution_count": null,
   "metadata": {},
   "outputs": [],
   "source": [
    "from collections import Counter\n",
    "\n",
    "\n",
    "def make_corpus(texts):\n",
    "    emoji_extractor = EmojiExtractor()\n",
    "    dataset = []\n",
    "    emoji_num_counter = Counter()\n",
    "    for text in texts:\n",
    "        text_emoji_dict = emoji_extractor.extract(text)\n",
    "        for sent, emoji_set in text_emoji_dict.items():\n",
    "            emoji_num_counter.update([len(emoji_set)])\n",
    "            for emoji_ in emoji_set:\n",
    "                # 学習に利用する絵文字であれば学習データに追加\n",
    "                #if emoji_ in emoji_id:\n",
    "                dataset.append((emoji_, sent))\n",
    "    print(\"Number of emojis distribution per sentence:\", emoji_num_counter)\n",
    "    return dataset\n",
    "        \n",
    "        \n",
    "dataset = make_corpus(texts)"
   ]
  },
  {
   "cell_type": "code",
   "execution_count": null,
   "metadata": {},
   "outputs": [],
   "source": [
    "import pandas as pd\n",
    "\n",
    "\n",
    "df = pd.DataFrame(dataset, columns=[\"emoji\", \"text\"])"
   ]
  },
  {
   "cell_type": "markdown",
   "metadata": {},
   "source": [
    "## データセットの分析"
   ]
  },
  {
   "cell_type": "code",
   "execution_count": null,
   "metadata": {
    "scrolled": false
   },
   "outputs": [],
   "source": [
    "import matplotlib\n",
    "import matplotlib.ticker as mtick\n",
    "\n",
    "dataset_size = len(df)\n",
    "print(\"Dataset size: \", dataset_size)\n",
    "\n",
    "emoji_count = df.emoji.value_counts()\n",
    "emoji_cumcount = emoji_count.cumsum()\n",
    "\n",
    "# ラベル数を調べる\n",
    "print(\"Unique labels:\", len(emoji_count))\n",
    "\n",
    "# 頻度情報を付与したデータフレームを作成\n",
    "emoji_df = pd.DataFrame({\n",
    "    \"emoji\": [emoji.EMOJI_UNICODE[x] for x in emoji_count.index],\n",
    "    \"count\": emoji_count,\n",
    "    \"perc\": emoji_count * 100 / dataset_size,\n",
    "    \"cum_count\": emoji_cumcount,\n",
    "    \"cum_perc\": emoji_cumcount *100 / dataset_size,\n",
    "})\n",
    "\n",
    "emoji_df"
   ]
  },
  {
   "cell_type": "code",
   "execution_count": null,
   "metadata": {
    "scrolled": false
   },
   "outputs": [],
   "source": [
    "# 全体の80%までの絵文字に制限する\n",
    "selected_emoji_df = emoji_df[emoji_df.cum_perc <= 80]\n",
    "print(\"Dataset size after selection:\", selected_emoji_df.cum_count[-1])\n",
    "print(\"Unique labels after selection:\", len(selected_emoji_df))"
   ]
  },
  {
   "cell_type": "code",
   "execution_count": null,
   "metadata": {},
   "outputs": [],
   "source": [
    "selected_emoji_df"
   ]
  },
  {
   "cell_type": "code",
   "execution_count": null,
   "metadata": {},
   "outputs": [],
   "source": [
    "selected_emoji_df.perc.plot(kind=\"bar\", figsize=(20, 5))"
   ]
  },
  {
   "cell_type": "markdown",
   "metadata": {},
   "source": [
    "## 学習データの作成\n",
    "\n",
    "絵文字を制限したデータセットから学習データを作成する。\n",
    "作成する際に注意することは\n",
    "\n",
    "- 不均衡データなので、ダウンサンプリングして均衡データとして扱う"
   ]
  },
  {
   "cell_type": "code",
   "execution_count": null,
   "metadata": {
    "scrolled": true
   },
   "outputs": [],
   "source": [
    "selected_emoji_names = set(selected_emoji_df.index)\n",
    "selected_df = df[[x in selected_emoji_names for x in df.emoji]]\n",
    "emoji_grouped_df = selected_df.groupby(\"emoji\")\n",
    "\n",
    "# Check if the dataset is sufficient to split train, valid and test set\n",
    "num_min_emoji = emoji_grouped_df.size().min()\n",
    "assert num_min_emoji >= test_valid_size_per_emoji * 3\n",
    "\n",
    "split_dataset = []\n",
    "from_to_list = [\n",
    "    (0, test_valid_size_per_emoji),\n",
    "    (test_valid_size_per_emoji, test_valid_size_per_emoji * 2), \n",
    "    (test_valid_size_per_emoji * 2, num_min_emoji)\n",
    "\n",
    "]\n",
    "\n",
    "for (from_, to_) in from_to_list:\n",
    "    grouped_dataset = selected_df.groupby(\"emoji\").nth(list(range(from_, to_)))\n",
    "    split_dataset.append(grouped_dataset)\n",
    "    \n",
    "test_set, valid_set, train_set = split_dataset\n",
    "print(\"Dataset size, train: {}, valid: {}, test: {}\".format(len(train_set), len(valid_set), len(test_set)))"
   ]
  },
  {
   "cell_type": "markdown",
   "metadata": {},
   "source": [
    "学習データを保存する"
   ]
  },
  {
   "cell_type": "code",
   "execution_count": null,
   "metadata": {},
   "outputs": [],
   "source": [
    "for (target_df, filename, index) in ([(selected_df, \"all.tsv\", False), (train_set, \"train.tsv\", True), (valid_set, \"valid.tsv\", True), (test_set, \"test.tsv\", True)]):\n",
    "    target_df.to_csv(out_dir+ \"/\" + filename, sep=\"\\t\", header=None, index=index)"
   ]
  }
 ],
 "metadata": {
  "celltoolbar": "Tags",
  "kernelspec": {
   "display_name": "Python 3",
   "language": "python",
   "name": "python3"
  },
  "language_info": {
   "codemirror_mode": {
    "name": "ipython",
    "version": 3
   },
   "file_extension": ".py",
   "mimetype": "text/x-python",
   "name": "python",
   "nbconvert_exporter": "python",
   "pygments_lexer": "ipython3",
   "version": "3.6.9"
  }
 },
 "nbformat": 4,
 "nbformat_minor": 4
}
