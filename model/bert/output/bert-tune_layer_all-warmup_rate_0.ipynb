{
 "cells": [
  {
   "cell_type": "markdown",
   "metadata": {
    "papermill": {
     "duration": 0.012194,
     "end_time": "2020-03-29T06:40:10.484395",
     "exception": false,
     "start_time": "2020-03-29T06:40:10.472201",
     "status": "completed"
    },
    "tags": []
   },
   "source": [
    "# BERT model\n",
    "\n",
    "Train BERT model for emoji."
   ]
  },
  {
   "cell_type": "markdown",
   "metadata": {
    "papermill": {
     "duration": 0.010483,
     "end_time": "2020-03-29T06:40:10.505673",
     "exception": false,
     "start_time": "2020-03-29T06:40:10.495190",
     "status": "completed"
    },
    "tags": []
   },
   "source": [
    "## Install dependent packages\n",
    "\n",
    "This section installs required package. Version should be specified for reproducibility."
   ]
  },
  {
   "cell_type": "code",
   "execution_count": 1,
   "metadata": {
    "papermill": {
     "duration": 23.143276,
     "end_time": "2020-03-29T06:40:33.659375",
     "exception": false,
     "start_time": "2020-03-29T06:40:10.516099",
     "status": "completed"
    },
    "scrolled": true,
    "tags": []
   },
   "outputs": [
    {
     "name": "stdout",
     "output_type": "stream",
     "text": [
      "Collecting transformers==2.5.1\n",
      "\u001b[?25l  Downloading https://files.pythonhosted.org/packages/13/33/ffb67897a6985a7b7d8e5e7878c3628678f553634bd3836404fef06ef19b/transformers-2.5.1-py3-none-any.whl (499kB)\n",
      "\u001b[K     |████████████████████████████████| 501kB 6.3MB/s eta 0:00:01\n",
      "\u001b[?25hCollecting tokenizers==0.5.2 (from transformers==2.5.1)\n",
      "\u001b[?25l  Downloading https://files.pythonhosted.org/packages/d1/3f/73c881ea4723e43c1e9acf317cf407fab3a278daab3a69c98dcac511c04f/tokenizers-0.5.2-cp36-cp36m-manylinux1_x86_64.whl (3.7MB)\n",
      "\u001b[K     |████████████████████████████████| 3.7MB 10.7MB/s eta 0:00:01\n",
      "\u001b[?25hCollecting boto3 (from transformers==2.5.1)\n",
      "\u001b[?25l  Downloading https://files.pythonhosted.org/packages/2a/4f/3facbb42e8d07db1ef9b8cefb28dd1dbfcd52a8e32a0323d57f59b10e147/boto3-1.12.31-py2.py3-none-any.whl (128kB)\n",
      "\u001b[K     |████████████████████████████████| 133kB 10.1MB/s eta 0:00:01\n",
      "\u001b[?25hCollecting regex!=2019.12.17 (from transformers==2.5.1)\n",
      "\u001b[?25l  Downloading https://files.pythonhosted.org/packages/2b/48/ff99529267c8c58943256827f3101a6f2e3cc802ae6dc9777abb9bc69c01/regex-2020.2.20-cp36-cp36m-manylinux2010_x86_64.whl (690kB)\n",
      "\u001b[K     |████████████████████████████████| 696kB 12.1MB/s eta 0:00:01\n",
      "\u001b[?25hRequirement already satisfied: tqdm>=4.27 in /opt/conda/lib/python3.6/site-packages (from transformers==2.5.1) (4.43.0)\n",
      "Requirement already satisfied: requests in /opt/conda/lib/python3.6/site-packages (from transformers==2.5.1) (2.22.0)\n",
      "Collecting sentencepiece (from transformers==2.5.1)\n",
      "\u001b[?25l  Downloading https://files.pythonhosted.org/packages/74/f4/2d5214cbf13d06e7cb2c20d84115ca25b53ea76fa1f0ade0e3c9749de214/sentencepiece-0.1.85-cp36-cp36m-manylinux1_x86_64.whl (1.0MB)\n",
      "\u001b[K     |████████████████████████████████| 1.0MB 12.1MB/s eta 0:00:01\n",
      "\u001b[?25hCollecting sacremoses (from transformers==2.5.1)\n",
      "\u001b[?25l  Downloading https://files.pythonhosted.org/packages/a6/b4/7a41d630547a4afd58143597d5a49e07bfd4c42914d8335b2a5657efc14b/sacremoses-0.0.38.tar.gz (860kB)\n",
      "\u001b[K     |████████████████████████████████| 870kB 12.1MB/s eta 0:00:01\n",
      "\u001b[?25hRequirement already satisfied: filelock in /opt/conda/lib/python3.6/site-packages (from transformers==2.5.1) (3.0.12)\n",
      "Requirement already satisfied: numpy in /opt/conda/lib/python3.6/site-packages (from transformers==2.5.1) (1.17.2)\n",
      "Collecting botocore<1.16.0,>=1.15.31 (from boto3->transformers==2.5.1)\n",
      "\u001b[?25l  Downloading https://files.pythonhosted.org/packages/e0/07/8ac3fe64e3a245c72c61688dc37e89f0c16f727eec92252733535794f9c3/botocore-1.15.31-py2.py3-none-any.whl (6.0MB)\n",
      "\u001b[K     |████████████████████████████████| 6.1MB 12.2MB/s eta 0:00:01\n",
      "\u001b[?25hCollecting jmespath<1.0.0,>=0.7.1 (from boto3->transformers==2.5.1)\n",
      "  Downloading https://files.pythonhosted.org/packages/a3/43/1e939e1fcd87b827fe192d0c9fc25b48c5b3368902bfb913de7754b0dc03/jmespath-0.9.5-py2.py3-none-any.whl\n",
      "Collecting s3transfer<0.4.0,>=0.3.0 (from boto3->transformers==2.5.1)\n",
      "\u001b[?25l  Downloading https://files.pythonhosted.org/packages/69/79/e6afb3d8b0b4e96cefbdc690f741d7dd24547ff1f94240c997a26fa908d3/s3transfer-0.3.3-py2.py3-none-any.whl (69kB)\n",
      "\u001b[K     |████████████████████████████████| 71kB 12.6MB/s eta 0:00:01\n",
      "\u001b[?25hRequirement already satisfied: chardet<3.1.0,>=3.0.2 in /opt/conda/lib/python3.6/site-packages (from requests->transformers==2.5.1) (3.0.4)\n",
      "Requirement already satisfied: idna<2.9,>=2.5 in /opt/conda/lib/python3.6/site-packages (from requests->transformers==2.5.1) (2.8)\n",
      "Requirement already satisfied: certifi>=2017.4.17 in /opt/conda/lib/python3.6/site-packages (from requests->transformers==2.5.1) (2019.9.11)\n",
      "Requirement already satisfied: urllib3!=1.25.0,!=1.25.1,<1.26,>=1.21.1 in /opt/conda/lib/python3.6/site-packages (from requests->transformers==2.5.1) (1.24.2)\n",
      "Requirement already satisfied: six in /opt/conda/lib/python3.6/site-packages (from sacremoses->transformers==2.5.1) (1.12.0)\n",
      "Requirement already satisfied: click in /opt/conda/lib/python3.6/site-packages (from sacremoses->transformers==2.5.1) (7.1.1)\n",
      "Collecting joblib (from sacremoses->transformers==2.5.1)\n",
      "\u001b[?25l  Downloading https://files.pythonhosted.org/packages/28/5c/cf6a2b65a321c4a209efcdf64c2689efae2cb62661f8f6f4bb28547cf1bf/joblib-0.14.1-py2.py3-none-any.whl (294kB)\n",
      "\u001b[K     |████████████████████████████████| 296kB 10.3MB/s eta 0:00:01\n",
      "\u001b[?25hCollecting docutils<0.16,>=0.10 (from botocore<1.16.0,>=1.15.31->boto3->transformers==2.5.1)\n",
      "\u001b[?25l  Downloading https://files.pythonhosted.org/packages/22/cd/a6aa959dca619918ccb55023b4cb151949c64d4d5d55b3f4ffd7eee0c6e8/docutils-0.15.2-py3-none-any.whl (547kB)\n",
      "\u001b[K     |████████████████████████████████| 552kB 12.2MB/s eta 0:00:01\n",
      "\u001b[?25hRequirement already satisfied: python-dateutil<3.0.0,>=2.1 in /opt/conda/lib/python3.6/site-packages (from botocore<1.16.0,>=1.15.31->boto3->transformers==2.5.1) (2.8.1)\n",
      "Building wheels for collected packages: sacremoses\n",
      "  Building wheel for sacremoses (setup.py) ... \u001b[?25ldone\n",
      "\u001b[?25h  Created wheel for sacremoses: filename=sacremoses-0.0.38-cp36-none-any.whl size=884629 sha256=ec8cc7d165d77d6eccff5b297d7cd6ab54d3f535ab939cf24cc534bd6712036f\n",
      "  Stored in directory: /root/.cache/pip/wheels/6d/ec/1a/21b8912e35e02741306f35f66c785f3afe94de754a0eaf1422\n",
      "Successfully built sacremoses\n",
      "Installing collected packages: tokenizers, jmespath, docutils, botocore, s3transfer, boto3, regex, sentencepiece, joblib, sacremoses, transformers\n",
      "Successfully installed boto3-1.12.31 botocore-1.15.31 docutils-0.15.2 jmespath-0.9.5 joblib-0.14.1 regex-2020.2.20 s3transfer-0.3.3 sacremoses-0.0.38 sentencepiece-0.1.85 tokenizers-0.5.2 transformers-2.5.1\n",
      "Collecting matplotlib==3.2.0\n",
      "\u001b[?25l  Downloading https://files.pythonhosted.org/packages/e6/fc/5889757c4c70c552f56fddc8fbdcab565475686cdebdfa1806a9d54cd53b/matplotlib-3.2.0-cp36-cp36m-manylinux1_x86_64.whl (12.4MB)\n",
      "\u001b[K     |████████████████████████████████| 12.4MB 12.9MB/s eta 0:00:01\n",
      "\u001b[?25hCollecting cycler>=0.10 (from matplotlib==3.2.0)\n",
      "  Downloading https://files.pythonhosted.org/packages/f7/d2/e07d3ebb2bd7af696440ce7e754c59dd546ffe1bbe732c8ab68b9c834e61/cycler-0.10.0-py2.py3-none-any.whl\n",
      "Collecting kiwisolver>=1.0.1 (from matplotlib==3.2.0)\n",
      "\u001b[?25l  Downloading https://files.pythonhosted.org/packages/f8/a1/5742b56282449b1c0968197f63eae486eca2c35dcd334bab75ad524e0de1/kiwisolver-1.1.0-cp36-cp36m-manylinux1_x86_64.whl (90kB)\n",
      "\u001b[K     |████████████████████████████████| 92kB 12.8MB/s eta 0:00:01\n",
      "\u001b[?25hRequirement already satisfied: numpy>=1.11 in /opt/conda/lib/python3.6/site-packages (from matplotlib==3.2.0) (1.17.2)\n",
      "Collecting pyparsing!=2.0.4,!=2.1.2,!=2.1.6,>=2.0.1 (from matplotlib==3.2.0)\n",
      "\u001b[?25l  Downloading https://files.pythonhosted.org/packages/5d/bc/1e58593167fade7b544bfe9502a26dc860940a79ab306e651e7f13be68c2/pyparsing-2.4.6-py2.py3-none-any.whl (67kB)\n",
      "\u001b[K     |████████████████████████████████| 71kB 15.8MB/s eta 0:00:01\n",
      "\u001b[?25hRequirement already satisfied: python-dateutil>=2.1 in /opt/conda/lib/python3.6/site-packages (from matplotlib==3.2.0) (2.8.1)\n",
      "Requirement already satisfied: six in /opt/conda/lib/python3.6/site-packages (from cycler>=0.10->matplotlib==3.2.0) (1.12.0)\n",
      "Requirement already satisfied: setuptools in /opt/conda/lib/python3.6/site-packages (from kiwisolver>=1.0.1->matplotlib==3.2.0) (41.4.0)\n",
      "Installing collected packages: cycler, kiwisolver, pyparsing, matplotlib\n",
      "Successfully installed cycler-0.10.0 kiwisolver-1.1.0 matplotlib-3.2.0 pyparsing-2.4.6\n",
      "Collecting pandas==1.0.1\n",
      "\u001b[?25l  Downloading https://files.pythonhosted.org/packages/08/ec/b5dd8cfb078380fb5ae9325771146bccd4e8cad2d3e4c72c7433010684eb/pandas-1.0.1-cp36-cp36m-manylinux1_x86_64.whl (10.1MB)\n",
      "\u001b[K     |████████████████████████████████| 10.1MB 4.6MB/s eta 0:00:01\n",
      "\u001b[?25hRequirement already satisfied: numpy>=1.13.3 in /opt/conda/lib/python3.6/site-packages (from pandas==1.0.1) (1.17.2)\n",
      "Requirement already satisfied: python-dateutil>=2.6.1 in /opt/conda/lib/python3.6/site-packages (from pandas==1.0.1) (2.8.1)\n",
      "Requirement already satisfied: pytz>=2017.2 in /opt/conda/lib/python3.6/site-packages (from pandas==1.0.1) (2019.3)\n",
      "Requirement already satisfied: six>=1.5 in /opt/conda/lib/python3.6/site-packages (from python-dateutil>=2.6.1->pandas==1.0.1) (1.12.0)\n",
      "Installing collected packages: pandas\n",
      "Successfully installed pandas-1.0.1\n",
      "Collecting mecab-python3==0.996.2\n",
      "\u001b[?25l  Downloading https://files.pythonhosted.org/packages/b3/92/e7e7f38df8457fa40c1ca86928be5ddbe2bf341e90a35e6ada30d03ef16d/mecab_python3-0.996.2-cp36-cp36m-manylinux1_x86_64.whl (15.9MB)\n",
      "\u001b[K     |████████████████████████████████| 15.9MB 11.8MB/s eta 0:00:01\n",
      "\u001b[?25hInstalling collected packages: mecab-python3\n",
      "Successfully installed mecab-python3-0.996.2\n",
      "Requirement already satisfied: tqdm==4.43.0 in /opt/conda/lib/python3.6/site-packages (4.43.0)\n",
      "Collecting tensorboard==2.1.1\n",
      "\u001b[?25l  Downloading https://files.pythonhosted.org/packages/d9/41/bbf49b61370e4f4d245d4c6051dfb6db80cec672605c91b1652ac8cc3d38/tensorboard-2.1.1-py3-none-any.whl (3.8MB)\n",
      "\u001b[K     |████████████████████████████████| 3.9MB 4.7MB/s eta 0:00:01\n",
      "\u001b[?25hRequirement already satisfied: requests<3,>=2.21.0 in /opt/conda/lib/python3.6/site-packages (from tensorboard==2.1.1) (2.22.0)\n",
      "Requirement already satisfied: six>=1.10.0 in /opt/conda/lib/python3.6/site-packages (from tensorboard==2.1.1) (1.12.0)\n",
      "Collecting absl-py>=0.4 (from tensorboard==2.1.1)\n",
      "\u001b[?25l  Downloading https://files.pythonhosted.org/packages/1a/53/9243c600e047bd4c3df9e69cfabc1e8004a82cac2e0c484580a78a94ba2a/absl-py-0.9.0.tar.gz (104kB)\n",
      "\u001b[K     |████████████████████████████████| 112kB 14.8MB/s eta 0:00:01\n",
      "\u001b[?25hCollecting grpcio>=1.24.3 (from tensorboard==2.1.1)\n",
      "\u001b[?25l  Downloading https://files.pythonhosted.org/packages/28/df/1f8a284a5e5819ae07d50bd76996d6f7208afef7533e4896fa1c6445574f/grpcio-1.27.2-cp36-cp36m-manylinux2010_x86_64.whl (2.7MB)\n",
      "\u001b[K     |████████████████████████████████| 2.7MB 12.8MB/s eta 0:00:01\n",
      "\u001b[?25hRequirement already satisfied: protobuf>=3.6.0 in /opt/conda/lib/python3.6/site-packages (from tensorboard==2.1.1) (3.11.3)\n",
      "Collecting werkzeug>=0.11.15 (from tensorboard==2.1.1)\n",
      "\u001b[?25l  Downloading https://files.pythonhosted.org/packages/ba/a5/d6f8a6e71f15364d35678a4ec8a0186f980b3bd2545f40ad51dd26a87fb1/Werkzeug-1.0.0-py2.py3-none-any.whl (298kB)\n",
      "\u001b[K     |████████████████████████████████| 307kB 12.5MB/s eta 0:00:01\n",
      "\u001b[?25hCollecting google-auth-oauthlib<0.5,>=0.4.1 (from tensorboard==2.1.1)\n",
      "  Downloading https://files.pythonhosted.org/packages/7b/b8/88def36e74bee9fce511c9519571f4e485e890093ab7442284f4ffaef60b/google_auth_oauthlib-0.4.1-py2.py3-none-any.whl\n",
      "Requirement already satisfied: numpy>=1.12.0 in /opt/conda/lib/python3.6/site-packages (from tensorboard==2.1.1) (1.17.2)\n",
      "Requirement already satisfied: setuptools>=41.0.0 in /opt/conda/lib/python3.6/site-packages (from tensorboard==2.1.1) (41.4.0)\n",
      "Collecting google-auth<2,>=1.6.3 (from tensorboard==2.1.1)\n",
      "\u001b[?25l  Downloading https://files.pythonhosted.org/packages/05/b0/cc391ebf8ebf7855cdcfe0a9a4cdc8dcd90287c90e1ac22651d104ac6481/google_auth-1.12.0-py2.py3-none-any.whl (83kB)\n",
      "\u001b[K     |████████████████████████████████| 92kB 14.8MB/s eta 0:00:01\n",
      "\u001b[?25hRequirement already satisfied: wheel>=0.26; python_version >= \"3\" in /opt/conda/lib/python3.6/site-packages (from tensorboard==2.1.1) (0.33.6)\n",
      "Collecting markdown>=2.6.8 (from tensorboard==2.1.1)\n",
      "\u001b[?25l  Downloading https://files.pythonhosted.org/packages/ab/c4/ba46d44855e6eb1770a12edace5a165a0c6de13349f592b9036257f3c3d3/Markdown-3.2.1-py2.py3-none-any.whl (88kB)\n",
      "\u001b[K     |████████████████████████████████| 92kB 14.7MB/s eta 0:00:01\n",
      "\u001b[?25hRequirement already satisfied: certifi>=2017.4.17 in /opt/conda/lib/python3.6/site-packages (from requests<3,>=2.21.0->tensorboard==2.1.1) (2019.9.11)\n",
      "Requirement already satisfied: chardet<3.1.0,>=3.0.2 in /opt/conda/lib/python3.6/site-packages (from requests<3,>=2.21.0->tensorboard==2.1.1) (3.0.4)\n",
      "Requirement already satisfied: urllib3!=1.25.0,!=1.25.1,<1.26,>=1.21.1 in /opt/conda/lib/python3.6/site-packages (from requests<3,>=2.21.0->tensorboard==2.1.1) (1.24.2)\n",
      "Requirement already satisfied: idna<2.9,>=2.5 in /opt/conda/lib/python3.6/site-packages (from requests<3,>=2.21.0->tensorboard==2.1.1) (2.8)\n",
      "Collecting requests-oauthlib>=0.7.0 (from google-auth-oauthlib<0.5,>=0.4.1->tensorboard==2.1.1)\n",
      "  Downloading https://files.pythonhosted.org/packages/a3/12/b92740d845ab62ea4edf04d2f4164d82532b5a0b03836d4d4e71c6f3d379/requests_oauthlib-1.3.0-py2.py3-none-any.whl\n",
      "Collecting pyasn1-modules>=0.2.1 (from google-auth<2,>=1.6.3->tensorboard==2.1.1)\n",
      "\u001b[?25l  Downloading https://files.pythonhosted.org/packages/95/de/214830a981892a3e286c3794f41ae67a4495df1108c3da8a9f62159b9a9d/pyasn1_modules-0.2.8-py2.py3-none-any.whl (155kB)\n",
      "\u001b[K     |████████████████████████████████| 163kB 11.2MB/s eta 0:00:01\n",
      "\u001b[?25hCollecting rsa<4.1,>=3.1.4 (from google-auth<2,>=1.6.3->tensorboard==2.1.1)\n",
      "  Downloading https://files.pythonhosted.org/packages/02/e5/38518af393f7c214357079ce67a317307936896e961e35450b70fad2a9cf/rsa-4.0-py2.py3-none-any.whl\n",
      "Collecting cachetools<5.0,>=2.0.0 (from google-auth<2,>=1.6.3->tensorboard==2.1.1)\n",
      "  Downloading https://files.pythonhosted.org/packages/08/6a/abf83cb951617793fd49c98cb9456860f5df66ff89883c8660aa0672d425/cachetools-4.0.0-py3-none-any.whl\n",
      "Collecting oauthlib>=3.0.0 (from requests-oauthlib>=0.7.0->google-auth-oauthlib<0.5,>=0.4.1->tensorboard==2.1.1)\n",
      "\u001b[?25l  Downloading https://files.pythonhosted.org/packages/05/57/ce2e7a8fa7c0afb54a0581b14a65b56e62b5759dbc98e80627142b8a3704/oauthlib-3.1.0-py2.py3-none-any.whl (147kB)\n",
      "\u001b[K     |████████████████████████████████| 153kB 12.9MB/s eta 0:00:01\n",
      "\u001b[?25hCollecting pyasn1<0.5.0,>=0.4.6 (from pyasn1-modules>=0.2.1->google-auth<2,>=1.6.3->tensorboard==2.1.1)\n",
      "\u001b[?25l  Downloading https://files.pythonhosted.org/packages/62/1e/a94a8d635fa3ce4cfc7f506003548d0a2447ae76fd5ca53932970fe3053f/pyasn1-0.4.8-py2.py3-none-any.whl (77kB)\n",
      "\u001b[K     |████████████████████████████████| 81kB 5.8MB/s eta 0:00:011\n",
      "\u001b[?25hBuilding wheels for collected packages: absl-py\n",
      "  Building wheel for absl-py (setup.py) ... \u001b[?25ldone\n",
      "\u001b[?25h  Created wheel for absl-py: filename=absl_py-0.9.0-cp36-none-any.whl size=121931 sha256=f5ba13467634acacc066ffd396882453209d61f0d27e34022259fe998fbcaf4c\n",
      "  Stored in directory: /root/.cache/pip/wheels/8e/28/49/fad4e7f0b9a1227708cbbee4487ac8558a7334849cb81c813d\n",
      "Successfully built absl-py\n",
      "Installing collected packages: absl-py, grpcio, werkzeug, oauthlib, requests-oauthlib, pyasn1, pyasn1-modules, rsa, cachetools, google-auth, google-auth-oauthlib, markdown, tensorboard\n",
      "Successfully installed absl-py-0.9.0 cachetools-4.0.0 google-auth-1.12.0 google-auth-oauthlib-0.4.1 grpcio-1.27.2 markdown-3.2.1 oauthlib-3.1.0 pyasn1-0.4.8 pyasn1-modules-0.2.8 requests-oauthlib-1.3.0 rsa-4.0 tensorboard-2.1.1 werkzeug-1.0.0\n",
      "Collecting attrdict==2.0.1\n",
      "  Downloading https://files.pythonhosted.org/packages/ef/97/28fe7e68bc7adfce67d4339756e85e9fcf3c6fd7f0c0781695352b70472c/attrdict-2.0.1-py2.py3-none-any.whl\n",
      "Requirement already satisfied: six in /opt/conda/lib/python3.6/site-packages (from attrdict==2.0.1) (1.12.0)\n",
      "Installing collected packages: attrdict\n",
      "Successfully installed attrdict-2.0.1\n"
     ]
    }
   ],
   "source": [
    "! pip install transformers==2.5.1\n",
    "! pip install matplotlib==3.2.0\n",
    "! pip install pandas==1.0.1\n",
    "! pip install mecab-python3==0.996.2\n",
    "! pip install tqdm==4.43.0\n",
    "! pip install tensorboard==2.1.1  # required by torch.utils.tensorboard\n",
    "! pip install attrdict==2.0.1"
   ]
  },
  {
   "cell_type": "markdown",
   "metadata": {
    "papermill": {
     "duration": 0.055886,
     "end_time": "2020-03-29T06:40:33.771364",
     "exception": false,
     "start_time": "2020-03-29T06:40:33.715478",
     "status": "completed"
    },
    "tags": []
   },
   "source": [
    "## Test library\n",
    "\n",
    "Test your all the libraries used in this notebook."
   ]
  },
  {
   "cell_type": "markdown",
   "metadata": {
    "papermill": {
     "duration": 0.055726,
     "end_time": "2020-03-29T06:40:33.883277",
     "exception": false,
     "start_time": "2020-03-29T06:40:33.827551",
     "status": "completed"
    },
    "tags": []
   },
   "source": [
    "## Define parameters\n",
    "Declare parameters set by `papermill` ."
   ]
  },
  {
   "cell_type": "code",
   "execution_count": 2,
   "metadata": {
    "papermill": {
     "duration": 0.060882,
     "end_time": "2020-03-29T06:40:33.999787",
     "exception": false,
     "start_time": "2020-03-29T06:40:33.938905",
     "status": "completed"
    },
    "tags": [
     "parameters"
    ]
   },
   "outputs": [],
   "source": [
    "name = \"bert-model\"\n",
    "data_dir = \"data_sample\"\n",
    "output_dir = \"output\"\n",
    "batch_size = 32\n",
    "num_epochs = 10  # 3-5 epoches are enough for fine-tuning\n",
    "learning_rate = 5e-5\n",
    "max_grad_norm = 1.0  # max grad norm needed for stable convergence\n",
    "warmup_rate = 0.1  # max grad norm needed for stable convergence\n",
    "tune_layer = \"all\"\n",
    "seed = 1234\n",
    "patience = 3  # if the validation metric is not improved in the count of patience, stop training"
   ]
  },
  {
   "cell_type": "code",
   "execution_count": 3,
   "metadata": {
    "papermill": {
     "duration": 0.06019,
     "end_time": "2020-03-29T06:40:34.115571",
     "exception": false,
     "start_time": "2020-03-29T06:40:34.055381",
     "status": "completed"
    },
    "tags": [
     "injected-parameters"
    ]
   },
   "outputs": [],
   "source": [
    "# Parameters\n",
    "data_dir = \"data\"\n",
    "tune_layer = \"all\"\n",
    "warmup_rate = 0\n",
    "name = \"bert-tune_layer_all-warmup_rate_0\"\n"
   ]
  },
  {
   "cell_type": "markdown",
   "metadata": {
    "papermill": {
     "duration": 0.055476,
     "end_time": "2020-03-29T06:40:34.226977",
     "exception": false,
     "start_time": "2020-03-29T06:40:34.171501",
     "status": "completed"
    },
    "tags": []
   },
   "source": [
    "Create an attribute object `param` from parameters, then delete parameter variables to clean this namespace."
   ]
  },
  {
   "cell_type": "code",
   "execution_count": 4,
   "metadata": {
    "papermill": {
     "duration": 0.063335,
     "end_time": "2020-03-29T06:40:34.346392",
     "exception": false,
     "start_time": "2020-03-29T06:40:34.283057",
     "status": "completed"
    },
    "tags": []
   },
   "outputs": [],
   "source": [
    "import attrdict\n",
    "\n",
    "params = attrdict.AttrDict({\n",
    "    \"name\": name,\n",
    "    \"data_dir\": data_dir,\n",
    "    \"output_dir\": output_dir,\n",
    "    \"batch_size\": batch_size,\n",
    "    \"num_epochs\": num_epochs,\n",
    "    \"learning_rate\": learning_rate,\n",
    "    \"max_grad_norm\": max_grad_norm,\n",
    "    \"warmup_rate\": warmup_rate,\n",
    "    \"tune_layer\": tune_layer,\n",
    "    \"seed\": seed,\n",
    "    \"patience\": patience\n",
    "})\n",
    "\n",
    "del name\n",
    "del data_dir\n",
    "del output_dir\n",
    "del batch_size\n",
    "del num_epochs\n",
    "del learning_rate\n",
    "del max_grad_norm\n",
    "del warmup_rate\n",
    "del tune_layer\n",
    "del seed\n",
    "del patience"
   ]
  },
  {
   "cell_type": "markdown",
   "metadata": {
    "papermill": {
     "duration": 0.055208,
     "end_time": "2020-03-29T06:40:34.472760",
     "exception": false,
     "start_time": "2020-03-29T06:40:34.417552",
     "status": "completed"
    },
    "tags": []
   },
   "source": [
    "## Define preprocessor and tokenizer"
   ]
  },
  {
   "cell_type": "code",
   "execution_count": 5,
   "metadata": {
    "papermill": {
     "duration": 0.469065,
     "end_time": "2020-03-29T06:40:34.997369",
     "exception": false,
     "start_time": "2020-03-29T06:40:34.528304",
     "status": "completed"
    },
    "tags": []
   },
   "outputs": [],
   "source": [
    "import transformers\n",
    "\n",
    "\n",
    "def build_tokenizer():\n",
    "    return transformers.BertJapaneseTokenizer.from_pretrained(\"bert-base-japanese\")"
   ]
  },
  {
   "cell_type": "code",
   "execution_count": 6,
   "metadata": {
    "papermill": {
     "duration": 0.065239,
     "end_time": "2020-03-29T06:40:35.118101",
     "exception": false,
     "start_time": "2020-03-29T06:40:35.052862",
     "status": "completed"
    },
    "tags": []
   },
   "outputs": [],
   "source": [
    "class LabelMapper:\n",
    "    # 絵文字のラベルと学習時のIDの変換を行うクラス\n",
    "    def __init__(self):\n",
    "        pass\n",
    "        \n",
    "    def build(self, labels):\n",
    "        id_ = 0\n",
    "        label_to_id = dict()\n",
    "        id_to_label = dict()\n",
    "        \n",
    "        for label in sorted(labels):\n",
    "            if label in label_to_id:\n",
    "                continue\n",
    "            label_to_id[label] = id_\n",
    "            id_to_label[id_] = label\n",
    "            id_ += 1\n",
    "        self._label_to_id = label_to_id\n",
    "        self._id_to_label = id_to_label\n",
    "        return self\n",
    "        \n",
    "    def id(self, label):\n",
    "        return self._label_to_id[label]\n",
    "    \n",
    "    def label(self, id):\n",
    "        return self._id_to_label[id]\n",
    "    \n",
    "    def labels(self):\n",
    "        return list(self._label_to_id.keys())\n",
    "    \n",
    "    def save(self, path):\n",
    "        path = os.path.join(path, \"label.txt\")\n",
    "        with open(path, \"w\") as fd:\n",
    "            for id_, label in self._id_to_label.items():\n",
    "                print(\"{}\\t{}\".format(id_, label), file=fd)\n",
    "                \n",
    "    def load(self, path):\n",
    "        label_to_id = dict()\n",
    "        id_to_label = dict()\n",
    "        \n",
    "        path = os.path.join(path, \"label.txt\")        \n",
    "        with open(path) as fd:\n",
    "            for line in fd:\n",
    "                id_, label = line.strip(\"\\n\").split(\"\\t\")\n",
    "                id_ = int(id_)\n",
    "                label_to_id[label] = id_\n",
    "                id_to_label[id_] = label\n",
    "        \n",
    "        self._label_to_id = label_to_id\n",
    "        self._id_to_label = id_to_label\n",
    "        return self"
   ]
  },
  {
   "cell_type": "markdown",
   "metadata": {
    "papermill": {
     "duration": 0.055944,
     "end_time": "2020-03-29T06:40:35.230224",
     "exception": false,
     "start_time": "2020-03-29T06:40:35.174280",
     "status": "completed"
    },
    "tags": []
   },
   "source": [
    "## Define dataset"
   ]
  },
  {
   "cell_type": "markdown",
   "metadata": {
    "papermill": {
     "duration": 0.056889,
     "end_time": "2020-03-29T06:40:35.343337",
     "exception": false,
     "start_time": "2020-03-29T06:40:35.286448",
     "status": "completed"
    },
    "tags": []
   },
   "source": [
    "LabelMapper implements conversion between emoji labels and IDs."
   ]
  },
  {
   "cell_type": "code",
   "execution_count": 7,
   "metadata": {
    "papermill": {
     "duration": 0.064322,
     "end_time": "2020-03-29T06:40:35.463736",
     "exception": false,
     "start_time": "2020-03-29T06:40:35.399414",
     "status": "completed"
    },
    "tags": []
   },
   "outputs": [],
   "source": [
    "import torch\n",
    "\n",
    "\n",
    "# DataSetは __getitem__, __len__を定義する\n",
    "\n",
    "class Dataset(torch.utils.data.Dataset):\n",
    "    def __init__(self, text_label_list, tokenizer):\n",
    "        self._text_label_list = text_label_list\n",
    "        self._tokenizer = tokenizer\n",
    "        \n",
    "    def __len__(self):\n",
    "        return len(self._text_label_list)\n",
    "    \n",
    "    def __getitem__(self, index):\n",
    "        text, label = self._text_label_list[index]\n",
    "        ids = self._tokenizer.encode(text)\n",
    "        return ids, label\n",
    "    \n",
    "    \n",
    "class PaddingCollation:\n",
    "    def __call__(self, ids_label_list):\n",
    "        # ids_list is like [([2, 4609, 3], 1), ([2, 10350, 25746, 28450, 3], 0)]\n",
    "        ids_list = torch.nn.utils.rnn.pad_sequence([torch.LongTensor(x[0]) for x in ids_label_list], batch_first=True)\n",
    "        label_list = torch.LongTensor([x[1] for x in ids_label_list])\n",
    "        return ids_list, label_list\n",
    "\n",
    "\n",
    "def build_data_loader(fd, label_mapper, tokenizer, batch_size, shuffle):\n",
    "    data = []\n",
    "    for line in fd:\n",
    "        label_str, text = line.strip(\"\\n\").split(\"\\t\")\n",
    "        label = label_mapper.id(label_str)\n",
    "        data.append((text, label))\n",
    "    dataset = Dataset(data, tokenizer)\n",
    "    col = PaddingCollation()\n",
    "    return torch.utils.data.DataLoader(dataset, batch_size=batch_size, collate_fn=col, shuffle=shuffle)"
   ]
  },
  {
   "cell_type": "markdown",
   "metadata": {
    "papermill": {
     "duration": 0.055853,
     "end_time": "2020-03-29T06:40:35.575562",
     "exception": false,
     "start_time": "2020-03-29T06:40:35.519709",
     "status": "completed"
    },
    "tags": []
   },
   "source": [
    "## Define model"
   ]
  },
  {
   "cell_type": "code",
   "execution_count": 8,
   "metadata": {
    "papermill": {
     "duration": 0.060672,
     "end_time": "2020-03-29T06:40:35.692162",
     "exception": false,
     "start_time": "2020-03-29T06:40:35.631490",
     "status": "completed"
    },
    "tags": []
   },
   "outputs": [],
   "source": [
    "def build_model(num_labels):\n",
    "    #config = transformers.BertConfig.from_pretrained(\"bert-base-japanese\", num_labels=num_labels)\n",
    "    #model = transformers.BertForSequenceClassification.from_pretrained(\"bert-base-japanese\", config=config)\n",
    "    model = transformers.BertForSequenceClassification.from_pretrained(\"bert-base-japanese\", num_labels=num_labels)\n",
    "    return model"
   ]
  },
  {
   "cell_type": "markdown",
   "metadata": {
    "papermill": {
     "duration": 0.056461,
     "end_time": "2020-03-29T06:40:35.804372",
     "exception": false,
     "start_time": "2020-03-29T06:40:35.747911",
     "status": "completed"
    },
    "tags": []
   },
   "source": [
    "## Build and save vocabulary"
   ]
  },
  {
   "cell_type": "code",
   "execution_count": 9,
   "metadata": {
    "papermill": {
     "duration": 0.253729,
     "end_time": "2020-03-29T06:40:36.114774",
     "exception": false,
     "start_time": "2020-03-29T06:40:35.861045",
     "status": "completed"
    },
    "tags": []
   },
   "outputs": [],
   "source": [
    "import os\n",
    "\n",
    "model_dir = os.path.join(params.output_dir, params.name)\n",
    "if not os.path.exists(model_dir):\n",
    "    os.mkdir(model_dir)\n",
    "\n",
    "label_mapper = LabelMapper().build([x.split(\"\\t\")[0] for x in open(params.data_dir + \"/train.tsv\")])\n",
    "label_mapper.save(model_dir)\n",
    "\n",
    "label_mapper = LabelMapper().load(model_dir)"
   ]
  },
  {
   "cell_type": "code",
   "execution_count": 10,
   "metadata": {
    "papermill": {
     "duration": 0.060712,
     "end_time": "2020-03-29T06:40:36.231179",
     "exception": false,
     "start_time": "2020-03-29T06:40:36.170467",
     "status": "completed"
    },
    "tags": []
   },
   "outputs": [
    {
     "name": "stdout",
     "output_type": "stream",
     "text": [
      "85\n",
      "[':OK_hand:', ':anger_symbol:', ':beaming_face_with_smiling_eyes:', ':beating_heart:', ':birthday_cake:', ':blue_heart:', ':cherry_blossom:', ':clapping_hands:', ':confetti_ball:', ':confounded_face:', ':crying_face:', ':dog_face:', ':double_exclamation_mark:', ':downcast_face_with_sweat:', ':drooling_face:', ':droplet:', ':exclamation_mark:', ':exclamation_question_mark:', ':eyes:', ':face_blowing_a_kiss:', ':face_savoring_food:', ':face_screaming_in_fear:', ':face_with_hand_over_mouth:', ':face_with_rolling_eyes:', ':face_with_tears_of_joy:', ':fire:', ':flexed_biceps:', ':flushed_face:', ':folded_hands:', ':folded_hands_light_skin_tone:', ':four_leaf_clover:', ':glowing_star:', ':green_heart:', ':grinning_face_with_big_eyes:', ':grinning_face_with_smiling_eyes:', ':grinning_face_with_sweat:', ':grinning_squinting_face:', ':growing_heart:', ':heart_suit:', ':heavy_heart_exclamation:', ':hugging_face:', ':index_pointing_up:', ':kissing_face_with_closed_eyes:', ':loudly_crying_face:', ':man_bowing:', ':musical_note:', ':musical_notes:', ':party_popper:', ':persevering_face:', ':person_bowing:', ':person_gesturing_OK:', ':person_raising_hand:', ':purple_heart:', ':question_mark:', ':rabbit_face:', ':raised_hand:', ':raising_hands:', ':red_heart:', ':relieved_face:', ':revolving_hearts:', ':right_arrow_curving_up:', ':rolling_on_the_floor_laughing:', ':see-no-evil_monkey:', ':smiling_face:', ':smiling_face_with_halo:', ':smiling_face_with_heart-eyes:', ':smiling_face_with_smiling_eyes:', ':smiling_face_with_sunglasses:', ':smirking_face:', ':sparkles:', ':sparkling_heart:', ':sun:', ':sweat_droplets:', ':thinking_face:', ':thought_balloon:', ':thumbs_up:', ':tired_face:', ':two_hearts:', ':upside-down_face:', ':victory_hand:', ':waving_hand:', ':winking_face:', ':woman_bowing:', ':yellow_heart:', ':zzz:']\n"
     ]
    }
   ],
   "source": [
    "print(len(label_mapper.labels()))\n",
    "print(label_mapper.labels())"
   ]
  },
  {
   "cell_type": "markdown",
   "metadata": {
    "papermill": {
     "duration": 0.056001,
     "end_time": "2020-03-29T06:40:36.343300",
     "exception": false,
     "start_time": "2020-03-29T06:40:36.287299",
     "status": "completed"
    },
    "tags": []
   },
   "source": [
    "## Train and save model"
   ]
  },
  {
   "cell_type": "code",
   "execution_count": 11,
   "metadata": {
    "papermill": {
     "duration": 0.061143,
     "end_time": "2020-03-29T06:40:36.459920",
     "exception": false,
     "start_time": "2020-03-29T06:40:36.398777",
     "status": "completed"
    },
    "tags": []
   },
   "outputs": [],
   "source": [
    "import torch\n",
    "import numpy as np\n",
    "import random\n",
    "\n",
    "\n",
    "def set_seed(seed):\n",
    "    random.seed(seed)\n",
    "    np.random.seed(seed)\n",
    "    torch.manual_seed(seed)\n",
    "    # When use GPU\n",
    "    torch.cuda.manual_seed_all(seed)\n",
    "    torch.backends.cudnn.deterministic = True\n",
    "    torch.backends.cudnn.benchmark = False"
   ]
  },
  {
   "cell_type": "code",
   "execution_count": 12,
   "metadata": {
    "papermill": {
     "duration": 0.071682,
     "end_time": "2020-03-29T06:40:36.588145",
     "exception": false,
     "start_time": "2020-03-29T06:40:36.516463",
     "status": "completed"
    },
    "tags": []
   },
   "outputs": [],
   "source": [
    "import tqdm\n",
    "import os\n",
    "import sys\n",
    "\n",
    "\n",
    "def train_model(model_dir, net, dataloader_dict, train_config):\n",
    "    PHASE_TRAIN = \"train\"\n",
    "    PHASE_VAL = \"val\"\n",
    "    \n",
    "    # keep the best model\n",
    "    best_model = None\n",
    "    best_epoch = 0\n",
    "    best_metric = {\"loss\": float(\"infinity\"), \"top1\": 0, \"top5\": 0}\n",
    "    \n",
    "    # 学習イテレーションの回数を保持\n",
    "    num_iters = 0\n",
    "    \n",
    "    # keep the count which the validation metric does not improved\n",
    "    num_patience = 0\n",
    "        \n",
    "    net.to(train_config.device)\n",
    "    \n",
    "    for epoch in range(train_config.num_epochs+1):\n",
    "        print(\"Epoch {}/{}\".format(epoch, train_config.num_epochs))\n",
    "        # 学習と検証のループ\n",
    "        for phase in [PHASE_TRAIN, PHASE_VAL]:\n",
    "            # フェーズによってネットワークのモードを変更する\n",
    "            # Dropout等の挙動に影響あり\n",
    "            if phase == PHASE_TRAIN:\n",
    "                net.train()\n",
    "            elif phase == PHASE_VAL:\n",
    "                net.eval()\n",
    "            else:\n",
    "                raise Exception(\"got {} expected one of {}\".format(phase, [PHASE_TRAIN, PHASE_VAL]))\n",
    "                \n",
    "            epoch_loss = 0\n",
    "            epoch_corrects = 0\n",
    "            epoch_topk_corrects = 0\n",
    "            \n",
    "            # 未学習時の検証性能を確かめる\n",
    "            if epoch == 0 and phase == PHASE_TRAIN:\n",
    "                continue\n",
    "                \n",
    "            for inputs, labels in tqdm.tqdm(dataloader_dict[phase], disable=True):\n",
    "                # GPUが使える場合はGPUにデータを送る\n",
    "                inputs = inputs.to(train_config.device)\n",
    "                labels = labels.to(train_config.device)\n",
    "                \n",
    "                # Initialize optimizer\n",
    "                if phase == PHASE_TRAIN:\n",
    "                    train_config.optimizer.zero_grad()\n",
    "                \n",
    "                # set_grad_enabled(phrase==\"train\") で\n",
    "                # 学習時のみ勾配計算できるようにグラフ作成する\n",
    "                with torch.set_grad_enabled(phase==PHASE_TRAIN):\n",
    "                    # labelsを指定することでlossを計算する\n",
    "                    loss, logits = net(inputs, labels=labels)\n",
    "                    _, preds = torch.max(logits, dim=1)\n",
    "                    _, topk_preds = torch.topk(logits, k=5, dim=1)\n",
    "                    \n",
    "                    if phase == PHASE_TRAIN:\n",
    "                        loss.backward()\n",
    "                        torch.nn.utils.clip_grad_norm_(net.parameters(), train_config.max_grad_norm)\n",
    "\n",
    "                        train_config.optimizer.step()\n",
    "                        train_config.scheduler.step()\n",
    "                        num_iters += 1\n",
    "\n",
    "                    # epoch loss を更新\n",
    "                    epoch_loss += loss.item() * inputs.size()[0]\n",
    "                    # 正解数を更新\n",
    "                    epoch_corrects += (preds == labels).sum().item()\n",
    "                    epoch_topk_corrects += (topk_preds == labels.unsqueeze(1)).max(dim=1)[0].sum().item()\n",
    "\n",
    "                    # TensorBoardへの描画を行う\n",
    "                    # 学習時のみlossを描画\n",
    "                    if train_config.writer and phase == PHASE_TRAIN:\n",
    "                        train_config.writer.add_scalars(\"train/loss\", {PHASE_TRAIN: loss.item()}, num_iters)\n",
    "                        train_config.writer.add_scalars(\"train/lr\", {PHASE_TRAIN: train_config.scheduler.get_lr()[0]}, num_iters)\n",
    "\n",
    "            epoch_loss = epoch_loss / len(dataloader_dict[phase].dataset)\n",
    "            epoch_acc = epoch_corrects / len(dataloader_dict[phase].dataset)\n",
    "            epoch_topk_acc = epoch_topk_corrects / len(dataloader_dict[phase].dataset)\n",
    "\n",
    "            print(\"phase {}, loss: {:.4f}, acc: {:.4f}, topk acc: {:.4f}\".format(phase, epoch_loss, epoch_acc, epoch_topk_acc))\n",
    "            \n",
    "            if train_config.writer and phase == PHASE_VAL:\n",
    "                train_config.writer.add_scalars(\"train/loss\", {PHASE_VAL: epoch_loss}, num_iters)\n",
    "                train_config.writer.add_scalars(\"acc/top1\", {PHASE_VAL: epoch_acc}, num_iters)\n",
    "                train_config.writer.add_scalars(\"acc/top5\", {PHASE_VAL: epoch_topk_acc}, num_iters)\n",
    "\n",
    "            if phase == PHASE_VAL:\n",
    "                if best_metric[\"loss\"] > epoch_loss:\n",
    "                    best_model = net\n",
    "                    best_metric = {\"loss\": epoch_loss, \"top1\": epoch_acc, \"top5\": epoch_topk_acc}\n",
    "                    best_epoch = epoch\n",
    "                    num_patience = 0\n",
    "\n",
    "                    # save model\n",
    "                    if model_dir:\n",
    "                        print(\"Save model, epoch:\", epoch)\n",
    "                        net.save_pretrained(model_dir)\n",
    "                else:\n",
    "                    num_patience += 1\n",
    "                    print(\"Patience {}, epoch: {}\".format(num_patience, epoch))\n",
    "                    \n",
    "                if num_patience > train_config.patience:\n",
    "                    return best_model, best_metric, best_epoch\n",
    "    return best_model, best_metric, best_epoch"
   ]
  },
  {
   "cell_type": "code",
   "execution_count": 13,
   "metadata": {
    "papermill": {
     "duration": 0.157908,
     "end_time": "2020-03-29T06:40:36.802541",
     "exception": false,
     "start_time": "2020-03-29T06:40:36.644633",
     "status": "completed"
    },
    "tags": []
   },
   "outputs": [],
   "source": [
    "# Setup train environment\n",
    "from torch.utils.tensorboard import SummaryWriter\n",
    "\n",
    "\n",
    "# Optimizer\n",
    "def tune_all(net):\n",
    "    for name, param in net.named_parameters():\n",
    "        param.requires_grad = True\n",
    "\n",
    "        \n",
    "def tune_classifier(net):\n",
    "    for name, param in net.named_parameters():\n",
    "        param.requires_grad = False\n",
    "    for name, param in net.classifier.named_parameters():\n",
    "        param.requires_grad = True\n",
    "\n",
    "        \n",
    "def tune_last_and_classifier(net):\n",
    "    for name, param in net.named_parameters():\n",
    "        param.requires_grad = False\n",
    "    for name, param in net.bert.encoder.layer[-1].named_parameters():\n",
    "        param.requires_grad = True\n",
    "    for name, param in net.classifier.named_parameters():\n",
    "        param.requires_grad = True"
   ]
  },
  {
   "cell_type": "code",
   "execution_count": 14,
   "metadata": {
    "papermill": {
     "duration": 0.064379,
     "end_time": "2020-03-29T06:40:36.923332",
     "exception": false,
     "start_time": "2020-03-29T06:40:36.858953",
     "status": "completed"
    },
    "tags": []
   },
   "outputs": [],
   "source": [
    "def train(params, model_dir, label_mapper):\n",
    "    # Fix seed for reproducability\n",
    "    set_seed(seed=params.seed)\n",
    "\n",
    "    # Build dataset\n",
    "    tokenizer = build_tokenizer()\n",
    "    dataloader_dict = {\n",
    "        \"train\": build_data_loader(open(params.data_dir + \"/train.tsv\"), label_mapper, tokenizer, batch_size=params.batch_size, shuffle=True),\n",
    "        \"val\": build_data_loader(open(params.data_dir + \"/valid.tsv\"), label_mapper, tokenizer, batch_size=params.batch_size, shuffle=False),\n",
    "    }\n",
    "\n",
    "    # define function which layers to tune\n",
    "    tune_func = {\n",
    "        \"all\": tune_all,\n",
    "        \"last_and_classifier\": tune_last_and_classifier,\n",
    "        \"classifier\": tune_classifier,\n",
    "    }[params.tune_layer]\n",
    "    \n",
    "    # build model\n",
    "    net = build_model(num_labels=len(label_mapper.labels()))\n",
    "    tune_func(net)\n",
    "    \n",
    "    # define config\n",
    "    total_steps = len(dataloader_dict[\"train\"]) * params.num_epochs\n",
    "    optimizer = torch.optim.Adam(net.parameters(),  lr=params.learning_rate)\n",
    "\n",
    "    train_config = attrdict.AttrDict({\n",
    "        \"optimizer\": optimizer,\n",
    "        \"writer\": SummaryWriter(log_dir=os.path.join(params.output_dir , \"runs\", params.name)),\n",
    "        \"device\": torch.device(\"cuda:0\" if torch.cuda.is_available() else \"cpu\"),\n",
    "        \"scheduler\": transformers.get_linear_schedule_with_warmup(\n",
    "            optimizer,\n",
    "            num_warmup_steps=total_steps*params.warmup_rate,\n",
    "            num_training_steps=total_steps\n",
    "        ),\n",
    "        \"patience\": params.patience,\n",
    "        \"max_grad_norm\": params.max_grad_norm,\n",
    "        \"num_epochs\": params.num_epochs,\n",
    "    })\n",
    "                                   \n",
    "    return train_model(model_dir, net, dataloader_dict, train_config)"
   ]
  },
  {
   "cell_type": "code",
   "execution_count": 15,
   "metadata": {
    "papermill": {
     "duration": 9587.976154,
     "end_time": "2020-03-29T09:20:24.955654",
     "exception": false,
     "start_time": "2020-03-29T06:40:36.979500",
     "status": "completed"
    },
    "tags": []
   },
   "outputs": [
    {
     "data": {
      "application/vnd.jupyter.widget-view+json": {
       "model_id": "1bf9c554f5ca482783de99e521510bb4",
       "version_major": 2,
       "version_minor": 0
      },
      "text/plain": [
       "HBox(children=(FloatProgress(value=0.0, description='Downloading', max=257706.0, style=ProgressStyle(descripti…"
      ]
     },
     "metadata": {},
     "output_type": "display_data"
    },
    {
     "name": "stdout",
     "output_type": "stream",
     "text": [
      "\n"
     ]
    },
    {
     "data": {
      "application/vnd.jupyter.widget-view+json": {
       "model_id": "6c848af0e70842e39d6cfb74fd08e70a",
       "version_major": 2,
       "version_minor": 0
      },
      "text/plain": [
       "HBox(children=(FloatProgress(value=0.0, description='Downloading', max=361.0, style=ProgressStyle(description_…"
      ]
     },
     "metadata": {},
     "output_type": "display_data"
    },
    {
     "name": "stdout",
     "output_type": "stream",
     "text": [
      "\n"
     ]
    },
    {
     "data": {
      "application/vnd.jupyter.widget-view+json": {
       "model_id": "b86ff8262ad94287a4f8d9b5ada86ab2",
       "version_major": 2,
       "version_minor": 0
      },
      "text/plain": [
       "HBox(children=(FloatProgress(value=0.0, description='Downloading', max=445021143.0, style=ProgressStyle(descri…"
      ]
     },
     "metadata": {},
     "output_type": "display_data"
    },
    {
     "name": "stdout",
     "output_type": "stream",
     "text": [
      "\n",
      "Epoch 0/10\n",
      "phase val, loss: 4.4780, acc: 0.0120, topk acc: 0.0578\n",
      "Save model, epoch: 0\n",
      "Epoch 1/10\n",
      "phase train, loss: 3.7810, acc: 0.1236, topk acc: 0.3081\n",
      "phase val, loss: 3.6645, acc: 0.1396, topk acc: 0.3438\n",
      "Save model, epoch: 1\n",
      "Epoch 2/10\n",
      "phase train, loss: 3.5663, acc: 0.1566, topk acc: 0.3718\n",
      "phase val, loss: 3.6367, acc: 0.1470, topk acc: 0.3526\n",
      "Save model, epoch: 2\n",
      "Epoch 3/10\n",
      "phase train, loss: 3.3953, acc: 0.1824, topk acc: 0.4211\n",
      "phase val, loss: 3.6583, acc: 0.1463, topk acc: 0.3564\n",
      "Patience 1, epoch: 3\n",
      "Epoch 4/10\n",
      "phase train, loss: 3.1763, acc: 0.2183, topk acc: 0.4833\n",
      "phase val, loss: 3.7127, acc: 0.1445, topk acc: 0.3512\n",
      "Patience 2, epoch: 4\n",
      "Epoch 5/10\n",
      "phase train, loss: 2.9253, acc: 0.2636, topk acc: 0.5505\n",
      "phase val, loss: 3.8851, acc: 0.1412, topk acc: 0.3446\n",
      "Patience 3, epoch: 5\n",
      "Epoch 6/10\n",
      "phase train, loss: 2.6618, acc: 0.3167, topk acc: 0.6159\n",
      "phase val, loss: 4.0814, acc: 0.1351, topk acc: 0.3356\n",
      "Patience 4, epoch: 6\n"
     ]
    }
   ],
   "source": [
    "best_model, best_metric, best_epoch = train(params, model_dir, label_mapper)"
   ]
  },
  {
   "cell_type": "markdown",
   "metadata": {
    "papermill": {
     "duration": 0.06024,
     "end_time": "2020-03-29T09:20:25.076422",
     "exception": false,
     "start_time": "2020-03-29T09:20:25.016182",
     "status": "completed"
    },
    "tags": []
   },
   "source": [
    "## Evaluate the best model"
   ]
  },
  {
   "cell_type": "code",
   "execution_count": 16,
   "metadata": {
    "papermill": {
     "duration": 0.066277,
     "end_time": "2020-03-29T09:20:25.202677",
     "exception": false,
     "start_time": "2020-03-29T09:20:25.136400",
     "status": "completed"
    },
    "tags": []
   },
   "outputs": [],
   "source": [
    "def evaluate(params, model_dir):\n",
    "    # Load models\n",
    "    tokenizer = build_tokenizer()\n",
    "    label_mapper = LabelMapper().load(model_dir)\n",
    "    net = transformers.BertForSequenceClassification.from_pretrained(model_dir)\n",
    "\n",
    "    dataloader_dict = {\n",
    "        \"val\": build_data_loader(open(params.data_dir + \"/test.tsv\"), label_mapper, tokenizer, batch_size=params.batch_size, shuffle=False),\n",
    "    }\n",
    "    # define config\n",
    "    optimizer = torch.optim.Adam(net.parameters(),  lr=params.learning_rate)\n",
    "\n",
    "    train_config = attrdict.AttrDict({\n",
    "        \"device\": torch.device(\"cuda:0\" if torch.cuda.is_available() else \"cpu\"),\n",
    "        \"writer\": None,\n",
    "        \"patience\": params.patience,\n",
    "        \"num_epochs\": 0,\n",
    "    })\n",
    "                                   \n",
    "    train_model(None, net, dataloader_dict, train_config)"
   ]
  },
  {
   "cell_type": "code",
   "execution_count": 17,
   "metadata": {
    "papermill": {
     "duration": 47.527506,
     "end_time": "2020-03-29T09:21:12.790906",
     "exception": false,
     "start_time": "2020-03-29T09:20:25.263400",
     "status": "completed"
    },
    "tags": []
   },
   "outputs": [
    {
     "name": "stdout",
     "output_type": "stream",
     "text": [
      "Epoch 0/0\n",
      "phase val, loss: 3.6261, acc: 0.1466, topk acc: 0.3584\n"
     ]
    }
   ],
   "source": [
    "evaluate(params, model_dir)"
   ]
  }
 ],
 "metadata": {
  "celltoolbar": "Tags",
  "kernelspec": {
   "display_name": "Python 3",
   "language": "python",
   "name": "python3"
  },
  "language_info": {
   "codemirror_mode": {
    "name": "ipython",
    "version": 3
   },
   "file_extension": ".py",
   "mimetype": "text/x-python",
   "name": "python",
   "nbconvert_exporter": "python",
   "pygments_lexer": "ipython3",
   "version": "3.6.9"
  },
  "papermill": {
   "duration": 9663.31071,
   "end_time": "2020-03-29T09:21:13.256188",
   "environment_variables": {},
   "exception": null,
   "input_path": "model.ipynb",
   "output_path": "output/bert-tune_layer_all-warmup_rate_0.ipynb",
   "parameters": {
    "data_dir": "data",
    "name": "bert-tune_layer_all-warmup_rate_0",
    "tune_layer": "all",
    "warmup_rate": 0
   },
   "start_time": "2020-03-29T06:40:09.945478",
   "version": "1.2.1"
  },
  "widgets": {
   "application/vnd.jupyter.widget-state+json": {
    "state": {
     "0c9b13e64f8147648fa7bc8e6d805b90": {
      "model_module": "@jupyter-widgets/controls",
      "model_module_version": "1.5.0",
      "model_name": "FloatProgressModel",
      "state": {
       "_dom_classes": [],
       "_model_module": "@jupyter-widgets/controls",
       "_model_module_version": "1.5.0",
       "_model_name": "FloatProgressModel",
       "_view_count": null,
       "_view_module": "@jupyter-widgets/controls",
       "_view_module_version": "1.5.0",
       "_view_name": "ProgressView",
       "bar_style": "success",
       "description": "Downloading: 100%",
       "description_tooltip": null,
       "layout": "IPY_MODEL_68010d87fba34e429fedef4616b18627",
       "max": 361,
       "min": 0,
       "orientation": "horizontal",
       "style": "IPY_MODEL_e4bdd78a9e744799a995cfca8b4f1bc5",
       "value": 361
      }
     },
     "14357efc49314651a5f16cc04d1026f2": {
      "model_module": "@jupyter-widgets/controls",
      "model_module_version": "1.5.0",
      "model_name": "HTMLModel",
      "state": {
       "_dom_classes": [],
       "_model_module": "@jupyter-widgets/controls",
       "_model_module_version": "1.5.0",
       "_model_name": "HTMLModel",
       "_view_count": null,
       "_view_module": "@jupyter-widgets/controls",
       "_view_module_version": "1.5.0",
       "_view_name": "HTMLView",
       "description": "",
       "description_tooltip": null,
       "layout": "IPY_MODEL_fc4b1f63be4548b2a737a292e646c995",
       "placeholder": "​",
       "style": "IPY_MODEL_43d359e5e7834a54a64c34473f427fd0",
       "value": " 258k/258k [00:00&lt;00:00, 480kB/s]"
      }
     },
     "15ef31b6b5834da1bc5e5a9d8051dbc6": {
      "model_module": "@jupyter-widgets/controls",
      "model_module_version": "1.5.0",
      "model_name": "FloatProgressModel",
      "state": {
       "_dom_classes": [],
       "_model_module": "@jupyter-widgets/controls",
       "_model_module_version": "1.5.0",
       "_model_name": "FloatProgressModel",
       "_view_count": null,
       "_view_module": "@jupyter-widgets/controls",
       "_view_module_version": "1.5.0",
       "_view_name": "ProgressView",
       "bar_style": "success",
       "description": "Downloading: 100%",
       "description_tooltip": null,
       "layout": "IPY_MODEL_87a4c4fa62644f72923215295bf0d8f6",
       "max": 257706,
       "min": 0,
       "orientation": "horizontal",
       "style": "IPY_MODEL_f4a8237d219747e6a6e1fd3a78482904",
       "value": 257706
      }
     },
     "1bf9c554f5ca482783de99e521510bb4": {
      "model_module": "@jupyter-widgets/controls",
      "model_module_version": "1.5.0",
      "model_name": "HBoxModel",
      "state": {
       "_dom_classes": [],
       "_model_module": "@jupyter-widgets/controls",
       "_model_module_version": "1.5.0",
       "_model_name": "HBoxModel",
       "_view_count": null,
       "_view_module": "@jupyter-widgets/controls",
       "_view_module_version": "1.5.0",
       "_view_name": "HBoxView",
       "box_style": "",
       "children": [
        "IPY_MODEL_15ef31b6b5834da1bc5e5a9d8051dbc6",
        "IPY_MODEL_14357efc49314651a5f16cc04d1026f2"
       ],
       "layout": "IPY_MODEL_c00089cf3ebd4db1b920464a8fd38662"
      }
     },
     "1c751c7d8eab42d6853a879e40c29d6e": {
      "model_module": "@jupyter-widgets/controls",
      "model_module_version": "1.5.0",
      "model_name": "FloatProgressModel",
      "state": {
       "_dom_classes": [],
       "_model_module": "@jupyter-widgets/controls",
       "_model_module_version": "1.5.0",
       "_model_name": "FloatProgressModel",
       "_view_count": null,
       "_view_module": "@jupyter-widgets/controls",
       "_view_module_version": "1.5.0",
       "_view_name": "ProgressView",
       "bar_style": "success",
       "description": "Downloading: 100%",
       "description_tooltip": null,
       "layout": "IPY_MODEL_93f7abf0faaa472ab39693d2ed45f941",
       "max": 445021143,
       "min": 0,
       "orientation": "horizontal",
       "style": "IPY_MODEL_d787af03174a448bb6842a09b8ea4b15",
       "value": 445021143
      }
     },
     "2366728ccb234683bdc249bc0c43b566": {
      "model_module": "@jupyter-widgets/controls",
      "model_module_version": "1.5.0",
      "model_name": "DescriptionStyleModel",
      "state": {
       "_model_module": "@jupyter-widgets/controls",
       "_model_module_version": "1.5.0",
       "_model_name": "DescriptionStyleModel",
       "_view_count": null,
       "_view_module": "@jupyter-widgets/base",
       "_view_module_version": "1.2.0",
       "_view_name": "StyleView",
       "description_width": ""
      }
     },
     "43d359e5e7834a54a64c34473f427fd0": {
      "model_module": "@jupyter-widgets/controls",
      "model_module_version": "1.5.0",
      "model_name": "DescriptionStyleModel",
      "state": {
       "_model_module": "@jupyter-widgets/controls",
       "_model_module_version": "1.5.0",
       "_model_name": "DescriptionStyleModel",
       "_view_count": null,
       "_view_module": "@jupyter-widgets/base",
       "_view_module_version": "1.2.0",
       "_view_name": "StyleView",
       "description_width": ""
      }
     },
     "5e0171dcaf05451e990ef7088dc7a956": {
      "model_module": "@jupyter-widgets/base",
      "model_module_version": "1.2.0",
      "model_name": "LayoutModel",
      "state": {
       "_model_module": "@jupyter-widgets/base",
       "_model_module_version": "1.2.0",
       "_model_name": "LayoutModel",
       "_view_count": null,
       "_view_module": "@jupyter-widgets/base",
       "_view_module_version": "1.2.0",
       "_view_name": "LayoutView",
       "align_content": null,
       "align_items": null,
       "align_self": null,
       "border": null,
       "bottom": null,
       "display": null,
       "flex": null,
       "flex_flow": null,
       "grid_area": null,
       "grid_auto_columns": null,
       "grid_auto_flow": null,
       "grid_auto_rows": null,
       "grid_column": null,
       "grid_gap": null,
       "grid_row": null,
       "grid_template_areas": null,
       "grid_template_columns": null,
       "grid_template_rows": null,
       "height": null,
       "justify_content": null,
       "justify_items": null,
       "left": null,
       "margin": null,
       "max_height": null,
       "max_width": null,
       "min_height": null,
       "min_width": null,
       "object_fit": null,
       "object_position": null,
       "order": null,
       "overflow": null,
       "overflow_x": null,
       "overflow_y": null,
       "padding": null,
       "right": null,
       "top": null,
       "visibility": null,
       "width": null
      }
     },
     "68010d87fba34e429fedef4616b18627": {
      "model_module": "@jupyter-widgets/base",
      "model_module_version": "1.2.0",
      "model_name": "LayoutModel",
      "state": {
       "_model_module": "@jupyter-widgets/base",
       "_model_module_version": "1.2.0",
       "_model_name": "LayoutModel",
       "_view_count": null,
       "_view_module": "@jupyter-widgets/base",
       "_view_module_version": "1.2.0",
       "_view_name": "LayoutView",
       "align_content": null,
       "align_items": null,
       "align_self": null,
       "border": null,
       "bottom": null,
       "display": null,
       "flex": null,
       "flex_flow": null,
       "grid_area": null,
       "grid_auto_columns": null,
       "grid_auto_flow": null,
       "grid_auto_rows": null,
       "grid_column": null,
       "grid_gap": null,
       "grid_row": null,
       "grid_template_areas": null,
       "grid_template_columns": null,
       "grid_template_rows": null,
       "height": null,
       "justify_content": null,
       "justify_items": null,
       "left": null,
       "margin": null,
       "max_height": null,
       "max_width": null,
       "min_height": null,
       "min_width": null,
       "object_fit": null,
       "object_position": null,
       "order": null,
       "overflow": null,
       "overflow_x": null,
       "overflow_y": null,
       "padding": null,
       "right": null,
       "top": null,
       "visibility": null,
       "width": null
      }
     },
     "6c848af0e70842e39d6cfb74fd08e70a": {
      "model_module": "@jupyter-widgets/controls",
      "model_module_version": "1.5.0",
      "model_name": "HBoxModel",
      "state": {
       "_dom_classes": [],
       "_model_module": "@jupyter-widgets/controls",
       "_model_module_version": "1.5.0",
       "_model_name": "HBoxModel",
       "_view_count": null,
       "_view_module": "@jupyter-widgets/controls",
       "_view_module_version": "1.5.0",
       "_view_name": "HBoxView",
       "box_style": "",
       "children": [
        "IPY_MODEL_0c9b13e64f8147648fa7bc8e6d805b90",
        "IPY_MODEL_723ecf19340d4f81aa3612c7f2a85749"
       ],
       "layout": "IPY_MODEL_5e0171dcaf05451e990ef7088dc7a956"
      }
     },
     "723ecf19340d4f81aa3612c7f2a85749": {
      "model_module": "@jupyter-widgets/controls",
      "model_module_version": "1.5.0",
      "model_name": "HTMLModel",
      "state": {
       "_dom_classes": [],
       "_model_module": "@jupyter-widgets/controls",
       "_model_module_version": "1.5.0",
       "_model_name": "HTMLModel",
       "_view_count": null,
       "_view_module": "@jupyter-widgets/controls",
       "_view_module_version": "1.5.0",
       "_view_name": "HTMLView",
       "description": "",
       "description_tooltip": null,
       "layout": "IPY_MODEL_98dd72e62f514894939ba19a7d871dee",
       "placeholder": "​",
       "style": "IPY_MODEL_2366728ccb234683bdc249bc0c43b566",
       "value": " 361/361 [00:00&lt;00:00, 718B/s]"
      }
     },
     "7f752e7460d14c2e9cbab285a803a9a1": {
      "model_module": "@jupyter-widgets/controls",
      "model_module_version": "1.5.0",
      "model_name": "DescriptionStyleModel",
      "state": {
       "_model_module": "@jupyter-widgets/controls",
       "_model_module_version": "1.5.0",
       "_model_name": "DescriptionStyleModel",
       "_view_count": null,
       "_view_module": "@jupyter-widgets/base",
       "_view_module_version": "1.2.0",
       "_view_name": "StyleView",
       "description_width": ""
      }
     },
     "87a4c4fa62644f72923215295bf0d8f6": {
      "model_module": "@jupyter-widgets/base",
      "model_module_version": "1.2.0",
      "model_name": "LayoutModel",
      "state": {
       "_model_module": "@jupyter-widgets/base",
       "_model_module_version": "1.2.0",
       "_model_name": "LayoutModel",
       "_view_count": null,
       "_view_module": "@jupyter-widgets/base",
       "_view_module_version": "1.2.0",
       "_view_name": "LayoutView",
       "align_content": null,
       "align_items": null,
       "align_self": null,
       "border": null,
       "bottom": null,
       "display": null,
       "flex": null,
       "flex_flow": null,
       "grid_area": null,
       "grid_auto_columns": null,
       "grid_auto_flow": null,
       "grid_auto_rows": null,
       "grid_column": null,
       "grid_gap": null,
       "grid_row": null,
       "grid_template_areas": null,
       "grid_template_columns": null,
       "grid_template_rows": null,
       "height": null,
       "justify_content": null,
       "justify_items": null,
       "left": null,
       "margin": null,
       "max_height": null,
       "max_width": null,
       "min_height": null,
       "min_width": null,
       "object_fit": null,
       "object_position": null,
       "order": null,
       "overflow": null,
       "overflow_x": null,
       "overflow_y": null,
       "padding": null,
       "right": null,
       "top": null,
       "visibility": null,
       "width": null
      }
     },
     "93f7abf0faaa472ab39693d2ed45f941": {
      "model_module": "@jupyter-widgets/base",
      "model_module_version": "1.2.0",
      "model_name": "LayoutModel",
      "state": {
       "_model_module": "@jupyter-widgets/base",
       "_model_module_version": "1.2.0",
       "_model_name": "LayoutModel",
       "_view_count": null,
       "_view_module": "@jupyter-widgets/base",
       "_view_module_version": "1.2.0",
       "_view_name": "LayoutView",
       "align_content": null,
       "align_items": null,
       "align_self": null,
       "border": null,
       "bottom": null,
       "display": null,
       "flex": null,
       "flex_flow": null,
       "grid_area": null,
       "grid_auto_columns": null,
       "grid_auto_flow": null,
       "grid_auto_rows": null,
       "grid_column": null,
       "grid_gap": null,
       "grid_row": null,
       "grid_template_areas": null,
       "grid_template_columns": null,
       "grid_template_rows": null,
       "height": null,
       "justify_content": null,
       "justify_items": null,
       "left": null,
       "margin": null,
       "max_height": null,
       "max_width": null,
       "min_height": null,
       "min_width": null,
       "object_fit": null,
       "object_position": null,
       "order": null,
       "overflow": null,
       "overflow_x": null,
       "overflow_y": null,
       "padding": null,
       "right": null,
       "top": null,
       "visibility": null,
       "width": null
      }
     },
     "98dd72e62f514894939ba19a7d871dee": {
      "model_module": "@jupyter-widgets/base",
      "model_module_version": "1.2.0",
      "model_name": "LayoutModel",
      "state": {
       "_model_module": "@jupyter-widgets/base",
       "_model_module_version": "1.2.0",
       "_model_name": "LayoutModel",
       "_view_count": null,
       "_view_module": "@jupyter-widgets/base",
       "_view_module_version": "1.2.0",
       "_view_name": "LayoutView",
       "align_content": null,
       "align_items": null,
       "align_self": null,
       "border": null,
       "bottom": null,
       "display": null,
       "flex": null,
       "flex_flow": null,
       "grid_area": null,
       "grid_auto_columns": null,
       "grid_auto_flow": null,
       "grid_auto_rows": null,
       "grid_column": null,
       "grid_gap": null,
       "grid_row": null,
       "grid_template_areas": null,
       "grid_template_columns": null,
       "grid_template_rows": null,
       "height": null,
       "justify_content": null,
       "justify_items": null,
       "left": null,
       "margin": null,
       "max_height": null,
       "max_width": null,
       "min_height": null,
       "min_width": null,
       "object_fit": null,
       "object_position": null,
       "order": null,
       "overflow": null,
       "overflow_x": null,
       "overflow_y": null,
       "padding": null,
       "right": null,
       "top": null,
       "visibility": null,
       "width": null
      }
     },
     "b65fc0832bf7448fa91619f3f127b1ec": {
      "model_module": "@jupyter-widgets/base",
      "model_module_version": "1.2.0",
      "model_name": "LayoutModel",
      "state": {
       "_model_module": "@jupyter-widgets/base",
       "_model_module_version": "1.2.0",
       "_model_name": "LayoutModel",
       "_view_count": null,
       "_view_module": "@jupyter-widgets/base",
       "_view_module_version": "1.2.0",
       "_view_name": "LayoutView",
       "align_content": null,
       "align_items": null,
       "align_self": null,
       "border": null,
       "bottom": null,
       "display": null,
       "flex": null,
       "flex_flow": null,
       "grid_area": null,
       "grid_auto_columns": null,
       "grid_auto_flow": null,
       "grid_auto_rows": null,
       "grid_column": null,
       "grid_gap": null,
       "grid_row": null,
       "grid_template_areas": null,
       "grid_template_columns": null,
       "grid_template_rows": null,
       "height": null,
       "justify_content": null,
       "justify_items": null,
       "left": null,
       "margin": null,
       "max_height": null,
       "max_width": null,
       "min_height": null,
       "min_width": null,
       "object_fit": null,
       "object_position": null,
       "order": null,
       "overflow": null,
       "overflow_x": null,
       "overflow_y": null,
       "padding": null,
       "right": null,
       "top": null,
       "visibility": null,
       "width": null
      }
     },
     "b86ff8262ad94287a4f8d9b5ada86ab2": {
      "model_module": "@jupyter-widgets/controls",
      "model_module_version": "1.5.0",
      "model_name": "HBoxModel",
      "state": {
       "_dom_classes": [],
       "_model_module": "@jupyter-widgets/controls",
       "_model_module_version": "1.5.0",
       "_model_name": "HBoxModel",
       "_view_count": null,
       "_view_module": "@jupyter-widgets/controls",
       "_view_module_version": "1.5.0",
       "_view_name": "HBoxView",
       "box_style": "",
       "children": [
        "IPY_MODEL_1c751c7d8eab42d6853a879e40c29d6e",
        "IPY_MODEL_c22295c59c344f2da81b2e7994012be1"
       ],
       "layout": "IPY_MODEL_dbc2f48324324352a94a5f621cc3996e"
      }
     },
     "c00089cf3ebd4db1b920464a8fd38662": {
      "model_module": "@jupyter-widgets/base",
      "model_module_version": "1.2.0",
      "model_name": "LayoutModel",
      "state": {
       "_model_module": "@jupyter-widgets/base",
       "_model_module_version": "1.2.0",
       "_model_name": "LayoutModel",
       "_view_count": null,
       "_view_module": "@jupyter-widgets/base",
       "_view_module_version": "1.2.0",
       "_view_name": "LayoutView",
       "align_content": null,
       "align_items": null,
       "align_self": null,
       "border": null,
       "bottom": null,
       "display": null,
       "flex": null,
       "flex_flow": null,
       "grid_area": null,
       "grid_auto_columns": null,
       "grid_auto_flow": null,
       "grid_auto_rows": null,
       "grid_column": null,
       "grid_gap": null,
       "grid_row": null,
       "grid_template_areas": null,
       "grid_template_columns": null,
       "grid_template_rows": null,
       "height": null,
       "justify_content": null,
       "justify_items": null,
       "left": null,
       "margin": null,
       "max_height": null,
       "max_width": null,
       "min_height": null,
       "min_width": null,
       "object_fit": null,
       "object_position": null,
       "order": null,
       "overflow": null,
       "overflow_x": null,
       "overflow_y": null,
       "padding": null,
       "right": null,
       "top": null,
       "visibility": null,
       "width": null
      }
     },
     "c22295c59c344f2da81b2e7994012be1": {
      "model_module": "@jupyter-widgets/controls",
      "model_module_version": "1.5.0",
      "model_name": "HTMLModel",
      "state": {
       "_dom_classes": [],
       "_model_module": "@jupyter-widgets/controls",
       "_model_module_version": "1.5.0",
       "_model_name": "HTMLModel",
       "_view_count": null,
       "_view_module": "@jupyter-widgets/controls",
       "_view_module_version": "1.5.0",
       "_view_name": "HTMLView",
       "description": "",
       "description_tooltip": null,
       "layout": "IPY_MODEL_b65fc0832bf7448fa91619f3f127b1ec",
       "placeholder": "​",
       "style": "IPY_MODEL_7f752e7460d14c2e9cbab285a803a9a1",
       "value": " 445M/445M [00:47&lt;00:00, 9.34MB/s]"
      }
     },
     "d787af03174a448bb6842a09b8ea4b15": {
      "model_module": "@jupyter-widgets/controls",
      "model_module_version": "1.5.0",
      "model_name": "ProgressStyleModel",
      "state": {
       "_model_module": "@jupyter-widgets/controls",
       "_model_module_version": "1.5.0",
       "_model_name": "ProgressStyleModel",
       "_view_count": null,
       "_view_module": "@jupyter-widgets/base",
       "_view_module_version": "1.2.0",
       "_view_name": "StyleView",
       "bar_color": null,
       "description_width": "initial"
      }
     },
     "dbc2f48324324352a94a5f621cc3996e": {
      "model_module": "@jupyter-widgets/base",
      "model_module_version": "1.2.0",
      "model_name": "LayoutModel",
      "state": {
       "_model_module": "@jupyter-widgets/base",
       "_model_module_version": "1.2.0",
       "_model_name": "LayoutModel",
       "_view_count": null,
       "_view_module": "@jupyter-widgets/base",
       "_view_module_version": "1.2.0",
       "_view_name": "LayoutView",
       "align_content": null,
       "align_items": null,
       "align_self": null,
       "border": null,
       "bottom": null,
       "display": null,
       "flex": null,
       "flex_flow": null,
       "grid_area": null,
       "grid_auto_columns": null,
       "grid_auto_flow": null,
       "grid_auto_rows": null,
       "grid_column": null,
       "grid_gap": null,
       "grid_row": null,
       "grid_template_areas": null,
       "grid_template_columns": null,
       "grid_template_rows": null,
       "height": null,
       "justify_content": null,
       "justify_items": null,
       "left": null,
       "margin": null,
       "max_height": null,
       "max_width": null,
       "min_height": null,
       "min_width": null,
       "object_fit": null,
       "object_position": null,
       "order": null,
       "overflow": null,
       "overflow_x": null,
       "overflow_y": null,
       "padding": null,
       "right": null,
       "top": null,
       "visibility": null,
       "width": null
      }
     },
     "e4bdd78a9e744799a995cfca8b4f1bc5": {
      "model_module": "@jupyter-widgets/controls",
      "model_module_version": "1.5.0",
      "model_name": "ProgressStyleModel",
      "state": {
       "_model_module": "@jupyter-widgets/controls",
       "_model_module_version": "1.5.0",
       "_model_name": "ProgressStyleModel",
       "_view_count": null,
       "_view_module": "@jupyter-widgets/base",
       "_view_module_version": "1.2.0",
       "_view_name": "StyleView",
       "bar_color": null,
       "description_width": "initial"
      }
     },
     "f4a8237d219747e6a6e1fd3a78482904": {
      "model_module": "@jupyter-widgets/controls",
      "model_module_version": "1.5.0",
      "model_name": "ProgressStyleModel",
      "state": {
       "_model_module": "@jupyter-widgets/controls",
       "_model_module_version": "1.5.0",
       "_model_name": "ProgressStyleModel",
       "_view_count": null,
       "_view_module": "@jupyter-widgets/base",
       "_view_module_version": "1.2.0",
       "_view_name": "StyleView",
       "bar_color": null,
       "description_width": "initial"
      }
     },
     "fc4b1f63be4548b2a737a292e646c995": {
      "model_module": "@jupyter-widgets/base",
      "model_module_version": "1.2.0",
      "model_name": "LayoutModel",
      "state": {
       "_model_module": "@jupyter-widgets/base",
       "_model_module_version": "1.2.0",
       "_model_name": "LayoutModel",
       "_view_count": null,
       "_view_module": "@jupyter-widgets/base",
       "_view_module_version": "1.2.0",
       "_view_name": "LayoutView",
       "align_content": null,
       "align_items": null,
       "align_self": null,
       "border": null,
       "bottom": null,
       "display": null,
       "flex": null,
       "flex_flow": null,
       "grid_area": null,
       "grid_auto_columns": null,
       "grid_auto_flow": null,
       "grid_auto_rows": null,
       "grid_column": null,
       "grid_gap": null,
       "grid_row": null,
       "grid_template_areas": null,
       "grid_template_columns": null,
       "grid_template_rows": null,
       "height": null,
       "justify_content": null,
       "justify_items": null,
       "left": null,
       "margin": null,
       "max_height": null,
       "max_width": null,
       "min_height": null,
       "min_width": null,
       "object_fit": null,
       "object_position": null,
       "order": null,
       "overflow": null,
       "overflow_x": null,
       "overflow_y": null,
       "padding": null,
       "right": null,
       "top": null,
       "visibility": null,
       "width": null
      }
     }
    },
    "version_major": 2,
    "version_minor": 0
   }
  }
 },
 "nbformat": 4,
 "nbformat_minor": 4
}
