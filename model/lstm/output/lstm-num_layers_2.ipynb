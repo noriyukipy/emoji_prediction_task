{
 "cells": [
  {
   "cell_type": "markdown",
   "metadata": {
    "papermill": {
     "duration": 0.01552,
     "end_time": "2020-03-30T14:10:06.025325",
     "exception": false,
     "start_time": "2020-03-30T14:10:06.009805",
     "status": "completed"
    },
    "tags": []
   },
   "source": [
    "# LSTM Classifier"
   ]
  },
  {
   "cell_type": "markdown",
   "metadata": {
    "papermill": {
     "duration": 0.01005,
     "end_time": "2020-03-30T14:10:06.045695",
     "exception": false,
     "start_time": "2020-03-30T14:10:06.035645",
     "status": "completed"
    },
    "tags": []
   },
   "source": [
    "## Install dependent libraries\n",
    "This section installs required package. Version should be specified for reproducibility."
   ]
  },
  {
   "cell_type": "code",
   "execution_count": 1,
   "metadata": {
    "papermill": {
     "duration": 21.105057,
     "end_time": "2020-03-30T14:10:27.160671",
     "exception": false,
     "start_time": "2020-03-30T14:10:06.055614",
     "status": "completed"
    },
    "scrolled": true,
    "tags": []
   },
   "outputs": [
    {
     "name": "stdout",
     "output_type": "stream",
     "text": [
      "Collecting janome==0.3.10\r\n",
      "\u001b[?25l  Downloading https://files.pythonhosted.org/packages/79/f0/bd7f90806132d7d9d642d418bdc3e870cfdff5947254ea3cab27480983a7/Janome-0.3.10-py2.py3-none-any.whl (21.5MB)\r\n",
      "\u001b[K     |████████████████████████████████| 21.5MB 6.9MB/s \r\n",
      "\u001b[?25hInstalling collected packages: janome\r\n",
      "Successfully installed janome-0.3.10\r\n",
      "Collecting attrdict==2.0.1\r\n",
      "  Downloading https://files.pythonhosted.org/packages/ef/97/28fe7e68bc7adfce67d4339756e85e9fcf3c6fd7f0c0781695352b70472c/attrdict-2.0.1-py2.py3-none-any.whl\r\n",
      "Requirement already satisfied: six in /opt/conda/lib/python3.6/site-packages (from attrdict==2.0.1) (1.12.0)\r\n",
      "Installing collected packages: attrdict\r\n",
      "Successfully installed attrdict-2.0.1\r\n",
      "Requirement already satisfied: tqdm==4.43.0 in /opt/conda/lib/python3.6/site-packages (4.43.0)\r\n",
      "Collecting tensorboard==2.1.1\r\n",
      "\u001b[?25l  Downloading https://files.pythonhosted.org/packages/d9/41/bbf49b61370e4f4d245d4c6051dfb6db80cec672605c91b1652ac8cc3d38/tensorboard-2.1.1-py3-none-any.whl (3.8MB)\r\n",
      "\u001b[K     |████████████████████████████████| 3.9MB 2.3MB/s \r\n",
      "\u001b[?25hRequirement already satisfied: setuptools>=41.0.0 in /opt/conda/lib/python3.6/site-packages (from tensorboard==2.1.1) (41.4.0)\r\n",
      "Collecting werkzeug>=0.11.15 (from tensorboard==2.1.1)\r\n",
      "\u001b[?25l  Downloading https://files.pythonhosted.org/packages/ba/a5/d6f8a6e71f15364d35678a4ec8a0186f980b3bd2545f40ad51dd26a87fb1/Werkzeug-1.0.0-py2.py3-none-any.whl (298kB)\r\n",
      "\u001b[K     |████████████████████████████████| 307kB 11.8MB/s \r\n",
      "\u001b[?25hRequirement already satisfied: protobuf>=3.6.0 in /opt/conda/lib/python3.6/site-packages (from tensorboard==2.1.1) (3.11.3)\r\n",
      "Collecting absl-py>=0.4 (from tensorboard==2.1.1)\r\n",
      "\u001b[?25l  Downloading https://files.pythonhosted.org/packages/1a/53/9243c600e047bd4c3df9e69cfabc1e8004a82cac2e0c484580a78a94ba2a/absl-py-0.9.0.tar.gz (104kB)\r\n",
      "\u001b[K     |████████████████████████████████| 112kB 14.3MB/s \r\n",
      "\u001b[?25hRequirement already satisfied: numpy>=1.12.0 in /opt/conda/lib/python3.6/site-packages (from tensorboard==2.1.1) (1.17.2)\r\n",
      "Collecting google-auth<2,>=1.6.3 (from tensorboard==2.1.1)\r\n",
      "\u001b[?25l  Downloading https://files.pythonhosted.org/packages/05/b0/cc391ebf8ebf7855cdcfe0a9a4cdc8dcd90287c90e1ac22651d104ac6481/google_auth-1.12.0-py2.py3-none-any.whl (83kB)\r\n",
      "\u001b[K     |████████████████████████████████| 92kB 14.4MB/s \r\n",
      "\u001b[?25hCollecting markdown>=2.6.8 (from tensorboard==2.1.1)\r\n",
      "\u001b[?25l  Downloading https://files.pythonhosted.org/packages/ab/c4/ba46d44855e6eb1770a12edace5a165a0c6de13349f592b9036257f3c3d3/Markdown-3.2.1-py2.py3-none-any.whl (88kB)\r\n",
      "\u001b[K     |████████████████████████████████| 92kB 11.3MB/s \r\n",
      "\u001b[?25hCollecting google-auth-oauthlib<0.5,>=0.4.1 (from tensorboard==2.1.1)\r\n",
      "  Downloading https://files.pythonhosted.org/packages/7b/b8/88def36e74bee9fce511c9519571f4e485e890093ab7442284f4ffaef60b/google_auth_oauthlib-0.4.1-py2.py3-none-any.whl\r\n",
      "Requirement already satisfied: six>=1.10.0 in /opt/conda/lib/python3.6/site-packages (from tensorboard==2.1.1) (1.12.0)\r\n",
      "Requirement already satisfied: wheel>=0.26; python_version >= \"3\" in /opt/conda/lib/python3.6/site-packages (from tensorboard==2.1.1) (0.33.6)\r\n",
      "Requirement already satisfied: requests<3,>=2.21.0 in /opt/conda/lib/python3.6/site-packages (from tensorboard==2.1.1) (2.22.0)\r\n",
      "Collecting grpcio>=1.24.3 (from tensorboard==2.1.1)\r\n",
      "\u001b[?25l  Downloading https://files.pythonhosted.org/packages/28/df/1f8a284a5e5819ae07d50bd76996d6f7208afef7533e4896fa1c6445574f/grpcio-1.27.2-cp36-cp36m-manylinux2010_x86_64.whl (2.7MB)\r\n",
      "\u001b[K     |████████████████████████████████| 2.7MB 10.5MB/s \r\n",
      "\u001b[?25hCollecting rsa<4.1,>=3.1.4 (from google-auth<2,>=1.6.3->tensorboard==2.1.1)\r\n",
      "  Downloading https://files.pythonhosted.org/packages/02/e5/38518af393f7c214357079ce67a317307936896e961e35450b70fad2a9cf/rsa-4.0-py2.py3-none-any.whl\r\n",
      "Collecting pyasn1-modules>=0.2.1 (from google-auth<2,>=1.6.3->tensorboard==2.1.1)\r\n",
      "\u001b[?25l  Downloading https://files.pythonhosted.org/packages/95/de/214830a981892a3e286c3794f41ae67a4495df1108c3da8a9f62159b9a9d/pyasn1_modules-0.2.8-py2.py3-none-any.whl (155kB)\r\n",
      "\u001b[K     |████████████████████████████████| 163kB 13.3MB/s \r\n",
      "\u001b[?25hCollecting cachetools<5.0,>=2.0.0 (from google-auth<2,>=1.6.3->tensorboard==2.1.1)\r\n",
      "  Downloading https://files.pythonhosted.org/packages/08/6a/abf83cb951617793fd49c98cb9456860f5df66ff89883c8660aa0672d425/cachetools-4.0.0-py3-none-any.whl\r\n",
      "Collecting requests-oauthlib>=0.7.0 (from google-auth-oauthlib<0.5,>=0.4.1->tensorboard==2.1.1)\r\n",
      "  Downloading https://files.pythonhosted.org/packages/a3/12/b92740d845ab62ea4edf04d2f4164d82532b5a0b03836d4d4e71c6f3d379/requests_oauthlib-1.3.0-py2.py3-none-any.whl\r\n",
      "Requirement already satisfied: idna<2.9,>=2.5 in /opt/conda/lib/python3.6/site-packages (from requests<3,>=2.21.0->tensorboard==2.1.1) (2.8)\r\n",
      "Requirement already satisfied: certifi>=2017.4.17 in /opt/conda/lib/python3.6/site-packages (from requests<3,>=2.21.0->tensorboard==2.1.1) (2019.9.11)\r\n",
      "Requirement already satisfied: chardet<3.1.0,>=3.0.2 in /opt/conda/lib/python3.6/site-packages (from requests<3,>=2.21.0->tensorboard==2.1.1) (3.0.4)\r\n",
      "Requirement already satisfied: urllib3!=1.25.0,!=1.25.1,<1.26,>=1.21.1 in /opt/conda/lib/python3.6/site-packages (from requests<3,>=2.21.0->tensorboard==2.1.1) (1.24.2)\r\n",
      "Collecting pyasn1>=0.1.3 (from rsa<4.1,>=3.1.4->google-auth<2,>=1.6.3->tensorboard==2.1.1)\r\n",
      "\u001b[?25l  Downloading https://files.pythonhosted.org/packages/62/1e/a94a8d635fa3ce4cfc7f506003548d0a2447ae76fd5ca53932970fe3053f/pyasn1-0.4.8-py2.py3-none-any.whl (77kB)\r\n",
      "\u001b[K     |████████████████████████████████| 81kB 11.3MB/s \r\n",
      "\u001b[?25hCollecting oauthlib>=3.0.0 (from requests-oauthlib>=0.7.0->google-auth-oauthlib<0.5,>=0.4.1->tensorboard==2.1.1)\r\n",
      "\u001b[?25l  Downloading https://files.pythonhosted.org/packages/05/57/ce2e7a8fa7c0afb54a0581b14a65b56e62b5759dbc98e80627142b8a3704/oauthlib-3.1.0-py2.py3-none-any.whl (147kB)\r\n",
      "\u001b[K     |████████████████████████████████| 153kB 13.3MB/s \r\n",
      "\u001b[?25hBuilding wheels for collected packages: absl-py\r\n",
      "  Building wheel for absl-py (setup.py) ... \u001b[?25l-\b \bdone\r\n",
      "\u001b[?25h  Created wheel for absl-py: filename=absl_py-0.9.0-cp36-none-any.whl size=121931 sha256=07c40ae5c6bd8d245e11c177bcbf1badc8e33e6f97e5a7c7e504d20c65b19ff2\r\n",
      "  Stored in directory: /root/.cache/pip/wheels/8e/28/49/fad4e7f0b9a1227708cbbee4487ac8558a7334849cb81c813d\r\n",
      "Successfully built absl-py\r\n",
      "Installing collected packages: werkzeug, absl-py, pyasn1, rsa, pyasn1-modules, cachetools, google-auth, markdown, oauthlib, requests-oauthlib, google-auth-oauthlib, grpcio, tensorboard\r\n",
      "Successfully installed absl-py-0.9.0 cachetools-4.0.0 google-auth-1.12.0 google-auth-oauthlib-0.4.1 grpcio-1.27.2 markdown-3.2.1 oauthlib-3.1.0 pyasn1-0.4.8 pyasn1-modules-0.2.8 requests-oauthlib-1.3.0 rsa-4.0 tensorboard-2.1.1 werkzeug-1.0.0\r\n"
     ]
    }
   ],
   "source": [
    "! pip install janome==0.3.10\n",
    "! pip install attrdict==2.0.1\n",
    "! pip install tqdm==4.43.0\n",
    "! pip install tensorboard==2.1.1"
   ]
  },
  {
   "cell_type": "markdown",
   "metadata": {
    "papermill": {
     "duration": 0.033526,
     "end_time": "2020-03-30T14:10:27.228536",
     "exception": false,
     "start_time": "2020-03-30T14:10:27.195010",
     "status": "completed"
    },
    "tags": []
   },
   "source": [
    "## Test library\n",
    "\n",
    "Test your all the libraries used in this notebook."
   ]
  },
  {
   "cell_type": "markdown",
   "metadata": {
    "papermill": {
     "duration": 0.03316,
     "end_time": "2020-03-30T14:10:27.294914",
     "exception": false,
     "start_time": "2020-03-30T14:10:27.261754",
     "status": "completed"
    },
    "tags": []
   },
   "source": [
    "## Define parameters\n",
    "Declare parameters set by `papermill` ."
   ]
  },
  {
   "cell_type": "code",
   "execution_count": 2,
   "metadata": {
    "papermill": {
     "duration": 0.039061,
     "end_time": "2020-03-30T14:10:27.367299",
     "exception": false,
     "start_time": "2020-03-30T14:10:27.328238",
     "status": "completed"
    },
    "tags": [
     "parameters"
    ]
   },
   "outputs": [],
   "source": [
    "name = \"test\"\n",
    "data_dir = \"data_sample\"\n",
    "output_dir =\"output\"\n",
    "batch_size = 32\n",
    "embedding_size = 300\n",
    "hidden_size = 300\n",
    "learning_rate = 0.001\n",
    "max_grad_norm = 1.0\n",
    "seed = 1234\n",
    "patience = 3\n",
    "num_epochs = 30\n",
    "num_layers=1\n",
    "dropout=0\n",
    "bidirectional=False"
   ]
  },
  {
   "cell_type": "code",
   "execution_count": 3,
   "metadata": {
    "papermill": {
     "duration": 0.038413,
     "end_time": "2020-03-30T14:10:27.439565",
     "exception": false,
     "start_time": "2020-03-30T14:10:27.401152",
     "status": "completed"
    },
    "tags": [
     "injected-parameters"
    ]
   },
   "outputs": [],
   "source": [
    "# Parameters\n",
    "data_dir = \"data\"\n",
    "num_layers = 2\n",
    "name = \"lstm-num_layers_2\"\n"
   ]
  },
  {
   "cell_type": "markdown",
   "metadata": {
    "papermill": {
     "duration": 0.034324,
     "end_time": "2020-03-30T14:10:27.507765",
     "exception": false,
     "start_time": "2020-03-30T14:10:27.473441",
     "status": "completed"
    },
    "tags": []
   },
   "source": [
    "Create an attribute object `param` from parameters, then delete parameter variables to clean this namespace."
   ]
  },
  {
   "cell_type": "code",
   "execution_count": 4,
   "metadata": {
    "papermill": {
     "duration": 0.040934,
     "end_time": "2020-03-30T14:10:27.583105",
     "exception": false,
     "start_time": "2020-03-30T14:10:27.542171",
     "status": "completed"
    },
    "tags": []
   },
   "outputs": [],
   "source": [
    "import attrdict\n",
    "\n",
    "_params = attrdict.AttrDict({\n",
    "    \"name\": name,\n",
    "    \"data_dir\": data_dir,\n",
    "    \"output_dir\": output_dir,\n",
    "    \"batch_size\": batch_size,\n",
    "    \"embedding_size\": embedding_size,\n",
    "    \"hidden_size\": hidden_size,\n",
    "    \"learning_rate\": learning_rate,\n",
    "    \"max_grad_norm\": max_grad_norm,\n",
    "    \"seed\": seed,\n",
    "    \"patience\": patience,\n",
    "    \"num_epochs\": num_epochs,\n",
    "    \"num_layers\": num_layers,\n",
    "    \"dropout\": dropout,\n",
    "    \"bidirectional\": bidirectional,\n",
    "})\n",
    "del data_dir\n",
    "del output_dir\n",
    "del batch_size\n",
    "del embedding_size\n",
    "del hidden_size\n",
    "del learning_rate\n",
    "del max_grad_norm\n",
    "del seed\n",
    "del patience\n",
    "del num_epochs\n",
    "del num_layers\n",
    "del dropout\n",
    "del bidirectional"
   ]
  },
  {
   "cell_type": "markdown",
   "metadata": {
    "papermill": {
     "duration": 0.033823,
     "end_time": "2020-03-30T14:10:27.650638",
     "exception": false,
     "start_time": "2020-03-30T14:10:27.616815",
     "status": "completed"
    },
    "tags": []
   },
   "source": [
    "## Define preprocessor and tokenizer"
   ]
  },
  {
   "cell_type": "code",
   "execution_count": 5,
   "metadata": {
    "papermill": {
     "duration": 0.111315,
     "end_time": "2020-03-30T14:10:27.796034",
     "exception": false,
     "start_time": "2020-03-30T14:10:27.684719",
     "status": "completed"
    },
    "tags": []
   },
   "outputs": [],
   "source": [
    "from janome.tokenizer import Tokenizer\n",
    "\n",
    "\n",
    "class PreprocessingTokenizer:\n",
    "    def __init__(self):\n",
    "        self._tokenizer = Tokenizer()\n",
    "\n",
    "    def tokenize(self, text):\n",
    "        tokens = self._tokenizer.tokenize(text, wakati=True)\n",
    "        return tokens\n",
    "    \n",
    "    def encode(self, text):\n",
    "        return [self.stoi.get(tkn, self.stoi[\"<unk>\"]) for tkn in self.tokenize(text)]\n",
    "    \n",
    "    def decode(self, ids):\n",
    "        return \"\".join([self.itos[x] for x in ids])\n",
    "    \n",
    "    def build_vocab(self, texts, pad=True, unk=True):\n",
    "        stoi = dict()\n",
    "        idx = 0\n",
    "        if pad:\n",
    "            stoi[\"<pad>\"] = idx\n",
    "            idx += 1\n",
    "        if unk:\n",
    "            stoi[\"<unk>\"] = idx\n",
    "            idx += 1\n",
    "        for text in texts:\n",
    "            for token in self.tokenize(text):\n",
    "                if token in stoi:\n",
    "                    continue\n",
    "                stoi[token] = idx\n",
    "                idx += 1\n",
    "\n",
    "        self.stoi = stoi\n",
    "        self.itos = self._build_itos_from_stoi(stoi)\n",
    "        return self\n",
    "        \n",
    "    def _build_itos_from_stoi(self, stoi):\n",
    "        return [tkn for tkn, idx in sorted(stoi.items(), key=lambda x: x[1])]\n",
    "\n",
    "    def save(self, save_dir):\n",
    "        path = os.path.join(save_dir, \"vocab.txt\")\n",
    "        with open(path, \"w\") as fd:\n",
    "            for tkn, idx in self.stoi.items():\n",
    "                print(\"{}\\t{}\".format(tkn, idx), file=fd)\n",
    "                \n",
    "    def load(self, path):\n",
    "        stoi = dict()\n",
    "        path = os.path.join(path, \"vocab.txt\")        \n",
    "        with open(path) as fd:\n",
    "            for line in fd:\n",
    "                tkn, idx = line.strip(\"\\n\").split(\"\\t\")\n",
    "                idx = int(idx)\n",
    "                stoi[tkn] = idx\n",
    "        self.stoi = stoi\n",
    "        self.itos = self._build_itos_from_stoi(stoi)\n",
    "        return self"
   ]
  },
  {
   "cell_type": "markdown",
   "metadata": {
    "papermill": {
     "duration": 0.033792,
     "end_time": "2020-03-30T14:10:27.863792",
     "exception": false,
     "start_time": "2020-03-30T14:10:27.830000",
     "status": "completed"
    },
    "tags": []
   },
   "source": [
    "## Define dataset"
   ]
  },
  {
   "cell_type": "code",
   "execution_count": 6,
   "metadata": {
    "papermill": {
     "duration": 0.042739,
     "end_time": "2020-03-30T14:10:27.940146",
     "exception": false,
     "start_time": "2020-03-30T14:10:27.897407",
     "status": "completed"
    },
    "tags": []
   },
   "outputs": [],
   "source": [
    "class LabelMapper:\n",
    "    # 絵文字のラベルと学習時のIDの変換を行うクラス\n",
    "    def __init__(self):\n",
    "        pass\n",
    "        \n",
    "    def build(self, labels):\n",
    "        id_ = 0\n",
    "        label_to_id = dict()\n",
    "        id_to_label = dict()\n",
    "        \n",
    "        for label in sorted(labels):\n",
    "            if label in label_to_id:\n",
    "                continue\n",
    "            label_to_id[label] = id_\n",
    "            id_to_label[id_] = label\n",
    "            id_ += 1\n",
    "        self._label_to_id = label_to_id\n",
    "        self._id_to_label = id_to_label\n",
    "        return self\n",
    "        \n",
    "    def id(self, label):\n",
    "        return self._label_to_id[label]\n",
    "    \n",
    "    def label(self, id):\n",
    "        return self._id_to_label[id]\n",
    "    \n",
    "    def labels(self):\n",
    "        return list(self._label_to_id.keys())\n",
    "    \n",
    "    def save(self, path):\n",
    "        path = os.path.join(path, \"label.txt\")\n",
    "        with open(path, \"w\") as fd:\n",
    "            for id_, label in self._id_to_label.items():\n",
    "                print(\"{}\\t{}\".format(id_, label), file=fd)\n",
    "                \n",
    "    def load(self, path):\n",
    "        label_to_id = dict()\n",
    "        id_to_label = dict()\n",
    "        \n",
    "        path = os.path.join(path, \"label.txt\")        \n",
    "        with open(path) as fd:\n",
    "            for line in fd:\n",
    "                id_, label = line.strip(\"\\n\").split(\"\\t\")\n",
    "                id_ = int(id_)\n",
    "                label_to_id[label] = id_\n",
    "                id_to_label[id_] = label\n",
    "        \n",
    "        self._label_to_id = label_to_id\n",
    "        self._id_to_label = id_to_label\n",
    "        return self"
   ]
  },
  {
   "cell_type": "code",
   "execution_count": 7,
   "metadata": {
    "papermill": {
     "duration": 0.2573,
     "end_time": "2020-03-30T14:10:28.231525",
     "exception": false,
     "start_time": "2020-03-30T14:10:27.974225",
     "status": "completed"
    },
    "tags": []
   },
   "outputs": [],
   "source": [
    "import torch\n",
    "\n",
    "\n",
    "# DataSetは __getitem__, __len__を定義する\n",
    "\n",
    "class Dataset(torch.utils.data.Dataset):\n",
    "    def __init__(self, text_label_list, tokenizer):\n",
    "        self._text_label_list = text_label_list\n",
    "        self._tokenizer = tokenizer\n",
    "        \n",
    "    def __len__(self):\n",
    "        return len(self._text_label_list)\n",
    "    \n",
    "    def __getitem__(self, index):\n",
    "        text, label = self._text_label_list[index]\n",
    "        ids = self._tokenizer.encode(text)\n",
    "        return ids, label\n",
    "    \n",
    "    \n",
    "class PaddingCollation:\n",
    "    def __call__(self, ids_label_list):\n",
    "        # ids_list is like [([2, 4609, 3], 1), ([2, 10350, 25746, 28450, 3], 0)]\n",
    "        ids_list = torch.nn.utils.rnn.pad_sequence([torch.LongTensor(x[0]) for x in ids_label_list], batch_first=False)\n",
    "        length_list = torch.LongTensor([len(x[0]) for x in ids_label_list])\n",
    "        label_list = torch.LongTensor([x[1] for x in ids_label_list])\n",
    "        return ids_list, length_list, label_list\n",
    "\n",
    "\n",
    "def build_data_loader(fd, label_mapper, tokenizer, batch_size, shuffle):\n",
    "    data = []\n",
    "    for line in fd:\n",
    "        label_str, text = line.strip(\"\\n\").split(\"\\t\")\n",
    "        label = label_mapper.id(label_str)\n",
    "        data.append((text, label))\n",
    "    dataset = Dataset(data, tokenizer)\n",
    "    col = PaddingCollation()\n",
    "    return torch.utils.data.DataLoader(dataset, batch_size=batch_size, collate_fn=col, shuffle=shuffle)"
   ]
  },
  {
   "cell_type": "markdown",
   "metadata": {
    "papermill": {
     "duration": 0.033641,
     "end_time": "2020-03-30T14:10:28.299099",
     "exception": false,
     "start_time": "2020-03-30T14:10:28.265458",
     "status": "completed"
    },
    "tags": []
   },
   "source": [
    "## Define model"
   ]
  },
  {
   "cell_type": "code",
   "execution_count": 8,
   "metadata": {
    "papermill": {
     "duration": 0.045322,
     "end_time": "2020-03-30T14:10:28.378055",
     "exception": false,
     "start_time": "2020-03-30T14:10:28.332733",
     "status": "completed"
    },
    "tags": []
   },
   "outputs": [],
   "source": [
    "import torch\n",
    "\n",
    "\n",
    "class LSTMClassifier(torch.nn.Module):\n",
    "    def __init__(self, vocab_size, target_size, embedding_size, hidden_size, num_layers=1, dropout=0, bidirectional=False, padding_idx=1):\n",
    "        super(LSTMClassifier, self).__init__()\n",
    "        \n",
    "        num_directions = 2 if bidirectional else 1\n",
    "        self.embedding = torch.nn.Embedding(vocab_size, embedding_size, padding_idx=padding_idx)\n",
    "        # [TODO] PAD ID の対応\n",
    "        self.lstm = torch.nn.LSTM(embedding_size, hidden_size, num_layers=num_layers, bidirectional=bidirectional)\n",
    "        self.classifier = torch.nn.Linear(num_directions*hidden_size, target_size)\n",
    "\n",
    "        # parameters\n",
    "        self.vocab_size = vocab_size\n",
    "        self.target_size = target_size\n",
    "        self.embedding_size = embedding_size\n",
    "        self.hidden_size = hidden_size\n",
    "        self.num_layers = num_layers\n",
    "        self.dropout = dropout\n",
    "        self.bidirectional = bidirectional\n",
    "        self.padding_idx = padding_idx\n",
    "        self.num_directions = num_directions\n",
    "        \n",
    "    def init_hidden(self, batch_size):\n",
    "        return (\n",
    "            torch.zeros(self.num_layers*self.num_directions, batch_size, self.hidden_size),\n",
    "            torch.zeros(self.num_layers*self.num_directions, batch_size, self.hidden_size)\n",
    "        )\n",
    "\n",
    "    def forward(self, batch, lengths, h_0, c_0):\n",
    "        emb = self.embedding(batch)\n",
    "        \n",
    "        # packing the padded sequence to make RNN ignore padding inputs\n",
    "        packed_emb = torch.nn.utils.rnn.pack_padded_sequence(emb, lengths, enforce_sorted=False)\n",
    "\n",
    "        # lstm_output: (seq_len, batch, num_directions * hidden_size): tensor\n",
    "        # lstm_h, ostm_c: (num_layers * num_directions, batch, hidden_size)\n",
    "        packed_lstm_output, (lstm_h, lstm_c) = self.lstm(packed_emb, (h_0, c_0))\n",
    "        lstm_output, l = torch.nn.utils.rnn.pad_packed_sequence(packed_lstm_output)\n",
    "\n",
    "        # If input LSTM output classifier, get each output by using the length\n",
    "        # Don't use the last - lstm[-1,:,:] - because almost all of them are zero vectors.\n",
    "        # because pad_packed_sequence pads the output\n",
    "        batch_size = batch.size()[1]\n",
    "        input_to_classifier = lstm_output[l-1,list(range(batch_size)),:]\n",
    "        \n",
    "        # If the input to classifier is hidden state, use the following code\n",
    "        #input_to_classifier = lstm_h[-1]\n",
    "\n",
    "        output = self.classifier(input_to_classifier)\n",
    "        return output\n",
    "        \n",
    "    def save(self, save_dir):\n",
    "        dic = {\n",
    "            \"state_dict\": self.state_dict(),\n",
    "            \"args\": {\n",
    "                \"vocab_size\": self.vocab_size,\n",
    "                \"target_size\": self.target_size,\n",
    "                \"embedding_size\": self.embedding_size,\n",
    "                \"hidden_size\": self.hidden_size,\n",
    "                \"num_layers\": self.num_layers,\n",
    "                \"dropout\": self.dropout,\n",
    "                \"bidirectional\": self.bidirectional,\n",
    "                \"padding_idx\": self.padding_idx,\n",
    "            }\n",
    "        }\n",
    "        torch.save(dic, os.path.join(save_dir, \"model.pth\"))\n",
    "\n",
    "    @classmethod\n",
    "    def load(cls, save_dir):\n",
    "        checkpoint = torch.load(os.path.join(save_dir, \"model.pth\"))\n",
    "        net = cls(**checkpoint[\"args\"])\n",
    "        net.load_state_dict(checkpoint[\"state_dict\"])\n",
    "        return net"
   ]
  },
  {
   "cell_type": "markdown",
   "metadata": {
    "papermill": {
     "duration": 0.033693,
     "end_time": "2020-03-30T14:10:28.445458",
     "exception": false,
     "start_time": "2020-03-30T14:10:28.411765",
     "status": "completed"
    },
    "tags": []
   },
   "source": [
    "## Build and save vocabulary"
   ]
  },
  {
   "cell_type": "code",
   "execution_count": 9,
   "metadata": {
    "papermill": {
     "duration": 0.040267,
     "end_time": "2020-03-30T14:10:28.519664",
     "exception": false,
     "start_time": "2020-03-30T14:10:28.479397",
     "status": "completed"
    },
    "tags": []
   },
   "outputs": [],
   "source": [
    "import os\n",
    "\n",
    "def build_vocab(output_dir, data_dir, name):\n",
    "    model_dir = os.path.join(output_dir, name)\n",
    "    if not os.path.exists(model_dir):\n",
    "        os.mkdir(model_dir)\n",
    "\n",
    "    labels = [x.split(\"\\t\")[0] for x in open(data_dir + \"/train.tsv\")]\n",
    "    texts = [x.split(\"\\t\")[1] for x in open(data_dir + \"/train.tsv\")]\n",
    "    # Build label vocabulary \n",
    "    label_mapper = LabelMapper().build(labels)\n",
    "    label_mapper.save(model_dir)\n",
    "    label_mapper = LabelMapper().load(model_dir)\n",
    "    \n",
    "    # Build vocabulary\n",
    "    tokenizer = PreprocessingTokenizer().build_vocab(texts)\n",
    "    tokenizer.save(model_dir)\n",
    "    \n",
    "    return model_dir"
   ]
  },
  {
   "cell_type": "code",
   "execution_count": 10,
   "metadata": {
    "papermill": {
     "duration": 284.335751,
     "end_time": "2020-03-30T14:15:12.889528",
     "exception": false,
     "start_time": "2020-03-30T14:10:28.553777",
     "status": "completed"
    },
    "tags": []
   },
   "outputs": [],
   "source": [
    "_model_dir = build_vocab(_params.output_dir, _params.data_dir, _params.name)\n",
    "_label_mapper = LabelMapper().load(_model_dir)\n",
    "_tokenizer = PreprocessingTokenizer().load(_model_dir)"
   ]
  },
  {
   "cell_type": "code",
   "execution_count": 11,
   "metadata": {
    "papermill": {
     "duration": 0.038614,
     "end_time": "2020-03-30T14:15:12.962094",
     "exception": false,
     "start_time": "2020-03-30T14:15:12.923480",
     "status": "completed"
    },
    "tags": []
   },
   "outputs": [
    {
     "name": "stdout",
     "output_type": "stream",
     "text": [
      "85 [':OK_hand:', ':anger_symbol:', ':beaming_face_with_smiling_eyes:', ':beating_heart:', ':birthday_cake:', ':blue_heart:', ':cherry_blossom:', ':clapping_hands:', ':confetti_ball:', ':confounded_face:', ':crying_face:', ':dog_face:', ':double_exclamation_mark:', ':downcast_face_with_sweat:', ':drooling_face:', ':droplet:', ':exclamation_mark:', ':exclamation_question_mark:', ':eyes:', ':face_blowing_a_kiss:', ':face_savoring_food:', ':face_screaming_in_fear:', ':face_with_hand_over_mouth:', ':face_with_rolling_eyes:', ':face_with_tears_of_joy:', ':fire:', ':flexed_biceps:', ':flushed_face:', ':folded_hands:', ':folded_hands_light_skin_tone:', ':four_leaf_clover:', ':glowing_star:', ':green_heart:', ':grinning_face_with_big_eyes:', ':grinning_face_with_smiling_eyes:', ':grinning_face_with_sweat:', ':grinning_squinting_face:', ':growing_heart:', ':heart_suit:', ':heavy_heart_exclamation:', ':hugging_face:', ':index_pointing_up:', ':kissing_face_with_closed_eyes:', ':loudly_crying_face:', ':man_bowing:', ':musical_note:', ':musical_notes:', ':party_popper:', ':persevering_face:', ':person_bowing:', ':person_gesturing_OK:', ':person_raising_hand:', ':purple_heart:', ':question_mark:', ':rabbit_face:', ':raised_hand:', ':raising_hands:', ':red_heart:', ':relieved_face:', ':revolving_hearts:', ':right_arrow_curving_up:', ':rolling_on_the_floor_laughing:', ':see-no-evil_monkey:', ':smiling_face:', ':smiling_face_with_halo:', ':smiling_face_with_heart-eyes:', ':smiling_face_with_smiling_eyes:', ':smiling_face_with_sunglasses:', ':smirking_face:', ':sparkles:', ':sparkling_heart:', ':sun:', ':sweat_droplets:', ':thinking_face:', ':thought_balloon:', ':thumbs_up:', ':tired_face:', ':two_hearts:', ':upside-down_face:', ':victory_hand:', ':waving_hand:', ':winking_face:', ':woman_bowing:', ':yellow_heart:', ':zzz:']\n",
      "['<pad>', '<unk>', 'おっ', 'け', 'ー', '！', 'み', 'ゆ', 'な', 'ちゃん', '全然', '大丈夫', 'よ', 'ちゃんと', '、', 'リプ', 'する', 'し', '離れ', 'ない', 'から', '安心', 'て', '了解', 'と', 'いう', 'か', '寝', 'つつ', 'も', '起き', 'た', 'っぽい', 'ん', 'DM', '返し', 'たり', 'なん', 'やかん', 'や', 'けど', '記憶', '無い', 'スッキリ', '目覚め', 'の', 'は', '4', '時', 'でし', '元々', '短時間', '睡眠', '(', '1', '時間', ')', 'とか', 'だから', '余裕', 'すご', 'い', '玲奈', 'うん', '無事', 'に', '着い', 'です', '。', '格好いい', '割', '前', '寝起き', '悪い', '心得', 'おり', 'ます', '1000', '円', 'あげる', '肩', '揉ん', 'で', '美味しかっ', '青じそ', 'が', '爽やか', 'だっ', '可愛い', '微妙', '…', '（', '笑', '）', 'みじん', 'こ', 'を', '盛っ', '撮っ', 'くれる']\n"
     ]
    }
   ],
   "source": [
    "print(len(_label_mapper.labels()), _label_mapper.labels())\n",
    "print(_tokenizer.itos[:100])"
   ]
  },
  {
   "cell_type": "markdown",
   "metadata": {
    "papermill": {
     "duration": 0.033902,
     "end_time": "2020-03-30T14:15:13.029833",
     "exception": false,
     "start_time": "2020-03-30T14:15:12.995931",
     "status": "completed"
    },
    "tags": []
   },
   "source": [
    "## Train and save model"
   ]
  },
  {
   "cell_type": "code",
   "execution_count": 12,
   "metadata": {
    "papermill": {
     "duration": 0.03868,
     "end_time": "2020-03-30T14:15:13.102284",
     "exception": false,
     "start_time": "2020-03-30T14:15:13.063604",
     "status": "completed"
    },
    "tags": []
   },
   "outputs": [],
   "source": [
    "import torch\n",
    "import numpy as np\n",
    "import random\n",
    "\n",
    "\n",
    "def set_seed(seed):\n",
    "    random.seed(seed)\n",
    "    np.random.seed(seed)\n",
    "    torch.manual_seed(seed)\n",
    "    # When use GPU\n",
    "    torch.cuda.manual_seed_all(seed)\n",
    "    torch.backends.cudnn.deterministic = True\n",
    "    torch.backends.cudnn.benchmark = False"
   ]
  },
  {
   "cell_type": "code",
   "execution_count": 13,
   "metadata": {
    "papermill": {
     "duration": 0.04972,
     "end_time": "2020-03-30T14:15:13.185813",
     "exception": false,
     "start_time": "2020-03-30T14:15:13.136093",
     "status": "completed"
    },
    "tags": []
   },
   "outputs": [],
   "source": [
    "import os\n",
    "import tqdm\n",
    "\n",
    "\n",
    "def train_model(model_dir, net, dataloader_dict, train_config):\n",
    "    PHASE_TRAIN = \"train\"\n",
    "    PHASE_VAL = \"val\"\n",
    "    \n",
    "    # keep the best model\n",
    "    best_model = None\n",
    "    best_epoch = 0\n",
    "    best_metric = {\"loss\": float(\"infinity\"), \"top1\": 0, \"top5\": 0}\n",
    "    \n",
    "    # 学習イテレーションの回数を保持\n",
    "    num_iters = 0\n",
    "    \n",
    "    # keep the count which the validation metric does not improved\n",
    "    num_patience = 0\n",
    "        \n",
    "    net.to(train_config.device)\n",
    "    \n",
    "    for epoch in range(train_config.num_epochs+1):\n",
    "        print(\"Epoch {}/{}\".format(epoch, train_config.num_epochs))\n",
    "        # 学習と検証のループ\n",
    "        for phase in [PHASE_TRAIN, PHASE_VAL]:\n",
    "            # フェーズによってネットワークのモードを変更する\n",
    "            # Dropout等の挙動に影響あり\n",
    "            if phase == PHASE_TRAIN:\n",
    "                net.train()\n",
    "            elif phase == PHASE_VAL:\n",
    "                net.eval()\n",
    "            else:\n",
    "                raise Exception(\"got {} expected one of {}\".format(phase, [PHASE_TRAIN, PHASE_VAL]))\n",
    "                \n",
    "            epoch_loss = 0\n",
    "            epoch_corrects = 0\n",
    "            epoch_topk_corrects = 0\n",
    "            \n",
    "            # 未学習時の検証性能を確かめる\n",
    "            if epoch == 0 and phase == PHASE_TRAIN:\n",
    "                continue\n",
    "                \n",
    "            for inputs, lengths, labels in tqdm.tqdm(dataloader_dict[phase], disable=True):\n",
    "                # GPUが使える場合はGPUにデータを送る\n",
    "                inputs = inputs.to(train_config.device)\n",
    "                lengths = lengths.to(train_config.device)\n",
    "                labels = labels.to(train_config.device)\n",
    "               \n",
    "                # Initialize optimizer\n",
    "                if phase == PHASE_TRAIN:\n",
    "                    train_config.optimizer.zero_grad()\n",
    "\n",
    "                # initialize hidden states\n",
    "                h_0, c_0 = net.init_hidden(inputs.size()[1])  # inputs.size()[1] == batch_size\n",
    "                h_0 = h_0.to(train_config.device)\n",
    "                c_0 = c_0.to(train_config.device)\n",
    "                \n",
    "                # set_grad_enabled(phrase==\"train\") で\n",
    "                # 学習時のみ勾配計算できるようにグラフ作成する\n",
    "                with torch.set_grad_enabled(phase==PHASE_TRAIN):\n",
    "                    # labelsを指定することでlossを計算する\n",
    "                    logits = net(inputs, lengths, h_0, c_0)\n",
    "                    loss = train_config.criterion(logits, labels)\n",
    "                    _, preds = torch.max(logits, dim=1)\n",
    "                    _, topk_preds = torch.topk(logits, k=5, dim=1)\n",
    "                    \n",
    "                    if phase == PHASE_TRAIN:\n",
    "                        loss.backward()\n",
    "                        torch.nn.utils.clip_grad_norm_(net.parameters(), train_config.max_grad_norm)\n",
    "                        train_config.optimizer.step()\n",
    "                        num_iters += 1\n",
    "\n",
    "                    # epoch loss を更新\n",
    "                    epoch_loss += loss.item() * inputs.size()[0]\n",
    "                    # 正解数を更新\n",
    "                    epoch_corrects += (preds == labels).sum().item()\n",
    "                    epoch_topk_corrects += (topk_preds == labels.unsqueeze(1)).max(dim=1)[0].sum().item()\n",
    "\n",
    "                    # TensorBoardへの描画を行う\n",
    "                    # 学習時のみlossを描画\n",
    "                    if phase == PHASE_TRAIN:\n",
    "                        train_config.writer.add_scalars(\"train/loss\", {PHASE_TRAIN: loss.item()}, num_iters)\n",
    "\n",
    "            epoch_loss = epoch_loss / len(dataloader_dict[phase].dataset)\n",
    "            epoch_acc = epoch_corrects / len(dataloader_dict[phase].dataset)\n",
    "            epoch_topk_acc = epoch_topk_corrects / len(dataloader_dict[phase].dataset)\n",
    "\n",
    "            print(\"phase {}, loss: {:.4f}, acc: {:.4f}, topk acc: {:.4f}\".format(phase, epoch_loss, epoch_acc, epoch_topk_acc))\n",
    "            \n",
    "            if train_config.writer and phase == PHASE_VAL:\n",
    "                train_config.writer.add_scalars(\"train/loss\", {PHASE_VAL: epoch_loss}, num_iters)\n",
    "                train_config.writer.add_scalars(\"acc/top1\", {PHASE_VAL: epoch_acc}, num_iters)\n",
    "                train_config.writer.add_scalars(\"acc/top5\", {PHASE_VAL: epoch_topk_acc}, num_iters)\n",
    "\n",
    "            if phase == PHASE_VAL:\n",
    "                if best_metric[\"loss\"] > epoch_loss:\n",
    "                    best_model = net\n",
    "                    best_metric = {\"loss\": epoch_loss, \"top1\": epoch_acc, \"top5\": epoch_topk_acc}\n",
    "                    best_epoch = epoch\n",
    "                    num_patience = 0\n",
    "                    # Save model\n",
    "                    if model_dir:\n",
    "                        print(\"Save model\")\n",
    "                        best_model.save(model_dir)\n",
    "                else:\n",
    "                    num_patience += 1\n",
    "                    print(\"Patience {}, epoch: {}\".format(num_patience, epoch))\n",
    "                    \n",
    "                if num_patience > train_config.patience:\n",
    "                    return best_model, best_metric, best_epoch\n",
    "    return best_model, best_metric, best_epoch"
   ]
  },
  {
   "cell_type": "code",
   "execution_count": 14,
   "metadata": {
    "papermill": {
     "duration": 0.137034,
     "end_time": "2020-03-30T14:15:13.356860",
     "exception": false,
     "start_time": "2020-03-30T14:15:13.219826",
     "status": "completed"
    },
    "tags": []
   },
   "outputs": [],
   "source": [
    "from torch.utils.tensorboard import SummaryWriter\n",
    "\n",
    "\n",
    "def train(params, model_dir):\n",
    "    # Fix seed for reproducability\n",
    "    set_seed(seed=params.seed)\n",
    "    \n",
    "    # Load vocabs\n",
    "    label_mapper = LabelMapper().load(model_dir)\n",
    "    tokenizer = PreprocessingTokenizer().load(model_dir)\n",
    "    \n",
    "    dataloader_dict = {\n",
    "        \"train\": build_data_loader(open(params.data_dir + \"/train.tsv\"), label_mapper, tokenizer, batch_size=params.batch_size, shuffle=True),\n",
    "        \"val\": build_data_loader(open(params.data_dir + \"/valid.tsv\"), label_mapper, tokenizer, batch_size=params.batch_size, shuffle=False),\n",
    "    }  \n",
    "    device = torch.device(\"cuda:0\" if torch.cuda.is_available() else \"cpu\")\n",
    "    net = LSTMClassifier(\n",
    "        vocab_size=len(tokenizer.itos),\n",
    "        target_size=len(label_mapper.labels()),\n",
    "        embedding_size=params.embedding_size,\n",
    "        hidden_size=params.hidden_size,\n",
    "        num_layers=params.num_layers,\n",
    "        dropout=params.dropout,\n",
    "        bidirectional=params.bidirectional,\n",
    "        padding_idx=tokenizer.stoi[\"<pad>\"],\n",
    "    )\n",
    "    train_config = attrdict.AttrDict({\n",
    "        \"optimizer\": torch.optim.Adam(net.parameters(),  lr=params.learning_rate),\n",
    "        \"writer\": SummaryWriter(log_dir=params.output_dir + \"/runs/\" + params.name),\n",
    "        \"num_epochs\": params.num_epochs,\n",
    "        \"max_grad_norm\": params.max_grad_norm,\n",
    "        \"patience\": params.patience,\n",
    "        \"device\": device,\n",
    "        \"criterion\": torch.nn.CrossEntropyLoss()\n",
    "    })\n",
    "    \n",
    "    print(net)\n",
    "    train_model(model_dir, net, dataloader_dict, train_config)"
   ]
  },
  {
   "cell_type": "code",
   "execution_count": 15,
   "metadata": {
    "papermill": {
     "duration": 2850.632313,
     "end_time": "2020-03-30T15:02:44.022986",
     "exception": false,
     "start_time": "2020-03-30T14:15:13.390673",
     "status": "completed"
    },
    "tags": []
   },
   "outputs": [
    {
     "name": "stdout",
     "output_type": "stream",
     "text": [
      "LSTMClassifier(\n",
      "  (embedding): Embedding(79771, 300, padding_idx=0)\n",
      "  (lstm): LSTM(300, 300, num_layers=2)\n",
      "  (classifier): Linear(in_features=300, out_features=85, bias=True)\n",
      ")\n",
      "Epoch 0/30\n",
      "phase val, loss: 4.5574, acc: 0.0132, topk acc: 0.0619\n",
      "Save model\n",
      "Epoch 1/30\n",
      "phase train, loss: 3.9248, acc: 0.1246, topk acc: 0.3050\n",
      "phase val, loss: 3.8182, acc: 0.1367, topk acc: 0.3300\n",
      "Save model\n",
      "Epoch 2/30\n",
      "phase train, loss: 3.6718, acc: 0.1609, topk acc: 0.3761\n",
      "phase val, loss: 3.7991, acc: 0.1388, topk acc: 0.3380\n",
      "Save model\n",
      "Epoch 3/30\n",
      "phase train, loss: 3.4609, acc: 0.1913, topk acc: 0.4349\n",
      "phase val, loss: 3.8519, acc: 0.1364, topk acc: 0.3308\n",
      "Patience 1, epoch: 3\n",
      "Epoch 4/30\n",
      "phase train, loss: 3.2590, acc: 0.2262, topk acc: 0.4915\n",
      "phase val, loss: 3.9574, acc: 0.1342, topk acc: 0.3252\n",
      "Patience 2, epoch: 4\n",
      "Epoch 5/30\n",
      "phase train, loss: 3.0572, acc: 0.2635, topk acc: 0.5444\n",
      "phase val, loss: 4.1052, acc: 0.1294, topk acc: 0.3131\n",
      "Patience 3, epoch: 5\n",
      "Epoch 6/30\n",
      "phase train, loss: 2.8905, acc: 0.2966, topk acc: 0.5846\n",
      "phase val, loss: 4.2335, acc: 0.1247, topk acc: 0.3091\n",
      "Patience 4, epoch: 6\n"
     ]
    }
   ],
   "source": [
    "train(_params, _model_dir)"
   ]
  },
  {
   "cell_type": "markdown",
   "metadata": {
    "papermill": {
     "duration": 0.035909,
     "end_time": "2020-03-30T15:02:44.095504",
     "exception": false,
     "start_time": "2020-03-30T15:02:44.059595",
     "status": "completed"
    },
    "tags": []
   },
   "source": [
    "## Evaluate the best model"
   ]
  },
  {
   "cell_type": "code",
   "execution_count": 16,
   "metadata": {
    "papermill": {
     "duration": 0.057663,
     "end_time": "2020-03-30T15:02:44.189152",
     "exception": false,
     "start_time": "2020-03-30T15:02:44.131489",
     "status": "completed"
    },
    "tags": []
   },
   "outputs": [],
   "source": [
    "def evaluate(model_dir, data_dir, batch_size):\n",
    "    \n",
    "    # Load vocabs\n",
    "    label_mapper = LabelMapper().load(model_dir)\n",
    "    tokenizer = PreprocessingTokenizer().load(model_dir)\n",
    "    # Load model\n",
    "    net = LSTMClassifier.load(model_dir)\n",
    "    \n",
    "    dataloader_dict = {\n",
    "        \"val\": build_data_loader(open(data_dir + \"/test.tsv\"), label_mapper, tokenizer, batch_size=batch_size, shuffle=False),\n",
    "    }  \n",
    "    device = torch.device(\"cuda:0\" if torch.cuda.is_available() else \"cpu\") \n",
    "    train_config = attrdict.AttrDict({\n",
    "        \"writer\": None,\n",
    "        \"num_epochs\": 0,\n",
    "        \"patience\": 1,\n",
    "        \"device\": device,\n",
    "        \"criterion\": torch.nn.CrossEntropyLoss(),        \n",
    "    })\n",
    "    \n",
    "    train_model(None, net, dataloader_dict, train_config)"
   ]
  },
  {
   "cell_type": "code",
   "execution_count": 17,
   "metadata": {
    "papermill": {
     "duration": 37.946255,
     "end_time": "2020-03-30T15:03:22.172165",
     "exception": false,
     "start_time": "2020-03-30T15:02:44.225910",
     "status": "completed"
    },
    "tags": []
   },
   "outputs": [
    {
     "name": "stdout",
     "output_type": "stream",
     "text": [
      "Epoch 0/0\n",
      "phase val, loss: 3.7505, acc: 0.1431, topk acc: 0.3434\n"
     ]
    }
   ],
   "source": [
    "evaluate(_model_dir, _params.data_dir, _params.batch_size)"
   ]
  }
 ],
 "metadata": {
  "celltoolbar": "Tags",
  "kernelspec": {
   "display_name": "Python 3",
   "language": "python",
   "name": "python3"
  },
  "language_info": {
   "codemirror_mode": {
    "name": "ipython",
    "version": 3
   },
   "file_extension": ".py",
   "mimetype": "text/x-python",
   "name": "python",
   "nbconvert_exporter": "python",
   "pygments_lexer": "ipython3",
   "version": "3.6.9"
  },
  "papermill": {
   "duration": 3197.221826,
   "end_time": "2020-03-30T15:03:22.715258",
   "environment_variables": {},
   "exception": null,
   "input_path": "model.ipynb",
   "output_path": "output/lstm-num_layers_2.ipynb",
   "parameters": {
    "data_dir": "data",
    "name": "lstm-num_layers_2",
    "num_layers": 2
   },
   "start_time": "2020-03-30T14:10:05.493432",
   "version": "1.2.1"
  }
 },
 "nbformat": 4,
 "nbformat_minor": 4
}
