{
 "cells": [
  {
   "cell_type": "markdown",
   "metadata": {},
   "source": [
    "# LSTM Classifier\n",
    "\n",
    "TODO:\n",
    "- Save torchtext vocabulary\n",
    "- Remove <unk> from LABEL vocabulary"
   ]
  },
  {
   "cell_type": "markdown",
   "metadata": {},
   "source": [
    "## Install dependent libraries\n",
    "This section installs required package. Version should be specified for reproducibility."
   ]
  },
  {
   "cell_type": "code",
   "execution_count": null,
   "metadata": {
    "scrolled": true
   },
   "outputs": [],
   "source": [
    "! pip install torchtext==0.5.0\n",
    "! pip install janome==0.3.10\n",
    "! pip install attrdict==2.0.1\n",
    "! pip install tqdm==4.43.0\n",
    "! pip install tensorboard==2.1.1"
   ]
  },
  {
   "cell_type": "markdown",
   "metadata": {},
   "source": [
    "## Parameters\n",
    "Declare parameters set by `papermill` ."
   ]
  },
  {
   "cell_type": "code",
   "execution_count": null,
   "metadata": {
    "tags": [
     "parameters"
    ]
   },
   "outputs": [],
   "source": [
    "name = \"test\"\n",
    "data_dir = \"./data_sample/\"\n",
    "output_dir =\"./output/\"\n",
    "batch_size = 32\n",
    "embedding_size = 300\n",
    "hidden_size = 300\n",
    "learning_rate = 5e-5\n",
    "max_grad_norm = 1.0\n",
    "seed = 1234\n",
    "patience = 3\n",
    "num_epochs = 30\n",
    "num_layers=1\n",
    "dropout=0\n",
    "bidirectional=False"
   ]
  },
  {
   "cell_type": "code",
   "execution_count": null,
   "metadata": {},
   "outputs": [],
   "source": [
    "import attrdict\n",
    "\n",
    "params = attrdict.AttrDict({\n",
    "    \"name\": name,\n",
    "    \"data_dir\": data_dir,\n",
    "    \"output_dir\": output_dir,\n",
    "    \"batch_size\": batch_size,\n",
    "    \"embedding_size\": embedding_size,\n",
    "    \"hidden_size\": hidden_size,\n",
    "    \"learning_rate\": learning_rate,\n",
    "    \"max_grad_norm\": max_grad_norm,\n",
    "    \"seed\": seed,\n",
    "    \"patience\": patience,\n",
    "    \"num_epochs\": num_epochs,\n",
    "    \"num_layers\": num_layers,\n",
    "    \"dropout\": dropout,\n",
    "    \"bidirectional\": bidirectional,\n",
    "})\n",
    "del data_dir\n",
    "del output_dir\n",
    "del batch_size\n",
    "del embedding_size\n",
    "del hidden_size\n",
    "del learning_rate\n",
    "del max_grad_norm\n",
    "del seed\n",
    "del patience\n",
    "del num_epochs\n",
    "del num_layers\n",
    "del dropout\n",
    "del bidirectional"
   ]
  },
  {
   "cell_type": "markdown",
   "metadata": {},
   "source": [
    "## Test library\n",
    "\n",
    "Test your all the libraries used in this notebook."
   ]
  },
  {
   "cell_type": "markdown",
   "metadata": {},
   "source": [
    "## Preprocessor and tokenizer"
   ]
  },
  {
   "cell_type": "code",
   "execution_count": null,
   "metadata": {},
   "outputs": [],
   "source": [
    "from janome.tokenizer import Tokenizer\n",
    "\n",
    "\n",
    "class PreprocessingTokenizer:\n",
    "    def __init__(self):\n",
    "        self._tokenizer = Tokenizer()\n",
    "\n",
    "    def tokenize(self, text):\n",
    "        tokens = self._tokenizer.tokenize(text, wakati=True)\n",
    "        return tokens"
   ]
  },
  {
   "cell_type": "markdown",
   "metadata": {},
   "source": [
    "## Dataset"
   ]
  },
  {
   "cell_type": "code",
   "execution_count": null,
   "metadata": {},
   "outputs": [],
   "source": [
    "import torchtext\n",
    "\n",
    "def build_dataset(data_dir):\n",
    "    tokenizer = PreprocessingTokenizer()\n",
    "    # use_vocab is required for LABEL because the label is not integer\n",
    "    # [TODO] LABEL vocab has <unk>, which is not needed. It should be removed.\n",
    "    LABEL = torchtext.data.Field(sequential=False, use_vocab=True)\n",
    "    TEXT = torchtext.data.Field(\n",
    "        tokenize=tokenizer.tokenize,\n",
    "        use_vocab=True,  # default: True\n",
    "    )\n",
    "    \n",
    "    train_ds, val_ds = torchtext.data.TabularDataset.splits(\n",
    "        path=data_dir,\n",
    "        train=\"train.tsv\",\n",
    "        validation=\"valid.tsv\",\n",
    "        format=\"tsv\",\n",
    "        fields=[(\"label\", LABEL), (\"text\", TEXT)]\n",
    "    )\n",
    "\n",
    "    LABEL.build_vocab(train_ds)\n",
    "    TEXT.build_vocab(train_ds)\n",
    "    \n",
    "    return train_ds, val_ds, TEXT, LABEL"
   ]
  },
  {
   "cell_type": "markdown",
   "metadata": {},
   "source": [
    "## Model"
   ]
  },
  {
   "cell_type": "code",
   "execution_count": null,
   "metadata": {},
   "outputs": [],
   "source": [
    "import torch\n",
    "\n",
    "\n",
    "class LSTMClassifier(torch.nn.Module):\n",
    "    def __init__(self, device, vocab_size, target_size, embedding_size, hidden_size, num_layers=1, dropout=0, bidirectional=False):\n",
    "        super(LSTMClassifier, self).__init__()\n",
    "        \n",
    "        num_directions = 2 if bidirectional else 1\n",
    "        self.embedding = torch.nn.Embedding(vocab_size, embedding_size)\n",
    "        # [TODO] PAD ID の対応\n",
    "        self.lstm = torch.nn.LSTM(embedding_size, hidden_size, num_layers=num_layers, bidirectional=bidirectional)\n",
    "        self.classifier = torch.nn.Linear(num_directions*hidden_size, target_size)\n",
    "        \n",
    "        self.num_layers = num_layers\n",
    "        self.hidden_size = hidden_size\n",
    "        self.num_directions = num_directions\n",
    "        self.device = device\n",
    "\n",
    "    def forward(self, batch):\n",
    "        emb = self.embedding(batch)\n",
    "\n",
    "        batch_size = batch.size()[1]\n",
    "        h_0 = torch.zeros(self.num_layers*self.num_directions, batch_size, self.hidden_size).to(self.device)\n",
    "        c_0 = torch.zeros(self.num_layers*self.num_directions, batch_size, self.hidden_size).to(self.device)\n",
    "        \n",
    "        # lstm_output: (seq_len, batch, num_directions * hidden_size): tensor\n",
    "        # lstm_h, ostm_c: (num_layers * num_directions, batch, hidden_size)\n",
    "        lstm_output, (lstm_h, lstm_c) = self.lstm(emb, (h_0, c_0))\n",
    "        \n",
    "        input_to_classifier = lstm_output[-1]\n",
    "        output = self.classifier(input_to_classifier)\n",
    "        return output"
   ]
  },
  {
   "cell_type": "markdown",
   "metadata": {},
   "source": [
    "## Train model"
   ]
  },
  {
   "cell_type": "code",
   "execution_count": null,
   "metadata": {},
   "outputs": [],
   "source": [
    "import torch\n",
    "import numpy as np\n",
    "import random\n",
    "\n",
    "\n",
    "def set_seed(seed):\n",
    "    random.seed(seed)\n",
    "    np.random.seed(seed)\n",
    "    torch.manual_seed(seed)\n",
    "    # When use GPU\n",
    "    torch.cuda.manual_seed_all(seed)\n",
    "    torch.backends.cudnn.deterministic = True\n",
    "    torch.backends.cudnn.benchmark = False"
   ]
  },
  {
   "cell_type": "code",
   "execution_count": null,
   "metadata": {},
   "outputs": [],
   "source": [
    "import os\n",
    "import tqdm\n",
    "\n",
    "\n",
    "def mkdir(path):\n",
    "    if not os.path.exists(path):\n",
    "        os.mkdir(path)\n",
    "\n",
    "\n",
    "def train_model(net, dataloader_dict, train_config):\n",
    "    PHASE_TRAIN = \"train\"\n",
    "    PHASE_VAL = \"val\"\n",
    "    \n",
    "    # keep the best model\n",
    "    best_model = None\n",
    "    best_epoch = 0\n",
    "    best_metric = {\"loss\": float(\"infinity\"), \"top1\": 0, \"top5\": 0}\n",
    "    \n",
    "    # 学習イテレーションの回数を保持\n",
    "    num_iters = 0\n",
    "    \n",
    "    # keep the count which the validation metric does not improved\n",
    "    num_patience = 0\n",
    "        \n",
    "    net.to(train_config.device)\n",
    "    \n",
    "    for epoch in range(train_config.num_epochs+1):\n",
    "        print(\"Epoch {}/{}\".format(epoch, train_config.num_epochs))\n",
    "        # 学習と検証のループ\n",
    "        for phase in [PHASE_TRAIN, PHASE_VAL]:\n",
    "            # フェーズによってネットワークのモードを変更する\n",
    "            # Dropout等の挙動に影響あり\n",
    "            if phase == PHASE_TRAIN:\n",
    "                net.train()\n",
    "            elif phase == PHASE_VAL:\n",
    "                net.eval()\n",
    "            else:\n",
    "                raise Exception(\"got {} expected one of {}\".format(phase, [PHASE_TRAIN, PHASE_VAL]))\n",
    "                \n",
    "            epoch_loss = 0\n",
    "            epoch_corrects = 0\n",
    "            epoch_topk_corrects = 0\n",
    "            \n",
    "            # 未学習時の検証性能を確かめる\n",
    "            if epoch == 0 and phase == PHASE_TRAIN:\n",
    "                continue\n",
    "                \n",
    "            for batch in tqdm.tqdm(dataloader_dict[phase], disable=True):\n",
    "                inputs = batch.text\n",
    "                labels = batch.label\n",
    "                # GPUが使える場合はGPUにデータを送る\n",
    "                inputs = inputs.to(train_config.device)\n",
    "                labels = labels.to(train_config.device)\n",
    "                \n",
    "                # Initialize optimizer\n",
    "                train_config.optimizer.zero_grad()\n",
    "                \n",
    "                # set_grad_enabled(phrase==\"train\") で\n",
    "                # 学習時のみ勾配計算できるようにグラフ作成する\n",
    "                with torch.set_grad_enabled(phase==PHASE_TRAIN):\n",
    "                    # labelsを指定することでlossを計算する\n",
    "                    logits = net(inputs)\n",
    "                    loss = train_config.criterion(logits, labels)\n",
    "                    _, preds = torch.max(logits, dim=1)\n",
    "                    _, topk_preds = torch.topk(logits, k=2, dim=1)\n",
    "                    \n",
    "                    if phase == PHASE_TRAIN:\n",
    "                        loss.backward()\n",
    "                        train_config.optimizer.step()\n",
    "                        torch.nn.utils.clip_grad_norm_(net.parameters(), train_config.max_grad_norm)\n",
    "                        num_iters += 1\n",
    "\n",
    "                    # epoch loss を更新\n",
    "                    epoch_loss += loss.item() * inputs.size()[0]\n",
    "                    # 正解数を更新\n",
    "                    epoch_corrects += (preds == labels).sum().item()\n",
    "                    epoch_topk_corrects += (topk_preds == labels.unsqueeze(1)).max(dim=1)[0].sum().item()\n",
    "\n",
    "                    # TensorBoardへの描画を行う\n",
    "                    # 学習時のみlossを描画\n",
    "                    if phase == PHASE_TRAIN:\n",
    "                        train_config.writer.add_scalars(\"train/loss\", {PHASE_TRAIN: loss.item()}, num_iters)\n",
    "                        # writer.add_scalars(\"train/lr\", {PHASE_TRAIN: scheduler.get_lr()[0]}, num_iters)\n",
    "\n",
    "            epoch_loss = epoch_loss / len(dataloader_dict[phase].dataset)\n",
    "            epoch_acc = epoch_corrects / len(dataloader_dict[phase].dataset)\n",
    "            epoch_topk_acc = epoch_topk_corrects / len(dataloader_dict[phase].dataset)\n",
    "\n",
    "            print(\"phase {}, loss: {:.4f}, acc: {:.4f}, topk acc: {:.4f}\".format(phase, epoch_loss, epoch_acc, epoch_topk_acc))\n",
    "            \n",
    "            if phase == PHASE_VAL:\n",
    "                train_config.writer.add_scalars(\"train/loss\", {PHASE_VAL: epoch_loss}, num_iters)\n",
    "                train_config.writer.add_scalars(\"acc/top1\", {PHASE_VAL: epoch_acc}, num_iters)\n",
    "                train_config.writer.add_scalars(\"acc/top5\", {PHASE_VAL: epoch_topk_acc}, num_iters)\n",
    "                \n",
    "                if best_metric[\"loss\"] > epoch_loss:\n",
    "                    best_model = net\n",
    "                    best_metric = {\"loss\": epoch_loss, \"top1\": epoch_acc, \"top5\": epoch_topk_acc}\n",
    "                    best_epoch = epoch\n",
    "                    num_patience = 0\n",
    "                    # save model\n",
    "                    print(\"Save model, epoch:\", epoch)\n",
    "                    save_dir = os.path.join(train_config.model_output_dir, \"epoch-{}\".format(epoch))\n",
    "                    mkdir(save_dir)\n",
    "\n",
    "                    # [TODO] Save vocab dict\n",
    "                    torch.save(net.state_dict(), os.path.join(save_dir, \"model.pth\"))\n",
    "                else:\n",
    "                    num_patience += 1\n",
    "                    print(\"Patience {}, epoch: {}\".format(num_patience, epoch))\n",
    "                    \n",
    "                if num_patience > train_config.patience:\n",
    "                    return best_model, best_metric, best_epoch\n",
    "    return best_model, best_metric, best_epoch\n",
    "\n"
   ]
  },
  {
   "cell_type": "code",
   "execution_count": null,
   "metadata": {},
   "outputs": [],
   "source": [
    "from torch.utils.tensorboard import SummaryWriter\n",
    "\n",
    "\n",
    "def train(params):\n",
    "    # Fix seed for reproducability\n",
    "    set_seed(seed=params.seed)\n",
    "    \n",
    "    # create directory to save model\n",
    "    model_output_dir = os.path.join(params.output_dir, name)\n",
    "    mkdir(model_output_dir)\n",
    "    \n",
    "    train_ds, val_ds, TEXT, LABEL = build_dataset(params.data_dir)\n",
    "    dataloader_dict = {\n",
    "        \"train\": torchtext.data.Iterator(train_ds, batch_size=params.batch_size, train=True),  # set train=True to enable shuffle and\n",
    "        \"val\": torchtext.data.Iterator(val_ds, batch_size=params.batch_size, train=False, sort=False)\n",
    "    }  \n",
    "    device = torch.device(\"cuda:0\" if torch.cuda.is_available() else \"cpu\")\n",
    "    net = cls = LSTMClassifier(\n",
    "        device=device,\n",
    "        vocab_size=len(TEXT.vocab),\n",
    "        target_size=len(LABEL.vocab),\n",
    "        embedding_size=params.embedding_size,\n",
    "        hidden_size=params.hidden_size,\n",
    "        num_layers=params.num_layers,\n",
    "        dropout=params.dropout,\n",
    "        bidirectional=params.bidirectional,\n",
    "    )\n",
    "    train_config = attrdict.AttrDict({\n",
    "        \"model_output_dir\": model_output_dir,\n",
    "        \"optimizer\": torch.optim.Adam(net.parameters(),  lr=params.learning_rate),\n",
    "        \"writer\": SummaryWriter(log_dir=params.output_dir + \"/runs/\" + params.name),\n",
    "        \"num_epochs\": params.num_epochs,\n",
    "        \"max_grad_norm\": params.max_grad_norm,\n",
    "        \"patience\": params.patience,\n",
    "        \"device\": device,\n",
    "        \"criterion\": torch.nn.CrossEntropyLoss()\n",
    "    })\n",
    "    \n",
    "    print(net)\n",
    "    return train_model(net, dataloader_dict, train_config)"
   ]
  },
  {
   "cell_type": "code",
   "execution_count": null,
   "metadata": {},
   "outputs": [],
   "source": [
    "best_model, best_metric, best_epoch = train(params)"
   ]
  },
  {
   "cell_type": "markdown",
   "metadata": {},
   "source": [
    "## Evaluate model"
   ]
  },
  {
   "cell_type": "code",
   "execution_count": null,
   "metadata": {},
   "outputs": [],
   "source": [
    "print(\"Best model in epoch\", best_epoch)\n",
    "print(\"Scores:\", best_metric)"
   ]
  }
 ],
 "metadata": {
  "celltoolbar": "Tags",
  "kernelspec": {
   "display_name": "Python 3",
   "language": "python",
   "name": "python3"
  },
  "language_info": {
   "codemirror_mode": {
    "name": "ipython",
    "version": 3
   },
   "file_extension": ".py",
   "mimetype": "text/x-python",
   "name": "python",
   "nbconvert_exporter": "python",
   "pygments_lexer": "ipython3",
   "version": "3.6.9"
  }
 },
 "nbformat": 4,
 "nbformat_minor": 4
}
